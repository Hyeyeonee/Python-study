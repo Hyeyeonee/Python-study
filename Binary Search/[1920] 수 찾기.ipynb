{
 "cells": [
  {
   "cell_type": "markdown",
   "id": "fda9463a",
   "metadata": {},
   "source": [
    "## [1920] 수 찾기"
   ]
  },
  {
   "cell_type": "code",
   "execution_count": 6,
   "id": "cd866cef",
   "metadata": {},
   "outputs": [
    {
     "name": "stdout",
     "output_type": "stream",
     "text": [
      "5\n",
      "4 1 5 2 3\n",
      "5\n",
      "1 3 7 9 5\n",
      "1\n",
      "1\n",
      "0\n",
      "0\n",
      "1\n"
     ]
    }
   ],
   "source": [
    "n = int(input())\n",
    "n_list = list(map(int, input().split()))\n",
    "n_list.sort()\n",
    "\n",
    "m = int(input())\n",
    "m_list = list(map(int, input().split()))\n",
    "\n",
    "\n",
    "def binary_search(target, data):\n",
    "    start = 0\n",
    "    end = n-1\n",
    "    \n",
    "    while start <= end:\n",
    "        mid = (start + end) // 2\n",
    "        \n",
    "        if data[mid] == target:\n",
    "            return 1\n",
    "        elif data[mid] < target:\n",
    "            start = mid + 1\n",
    "        else:\n",
    "            end = mid - 1\n",
    "    return 0\n",
    "\n",
    "for tg in m_list:\n",
    "    if binary_search(tg, n_list):\n",
    "        print(1)\n",
    "    else:\n",
    "        print(0)"
   ]
  },
  {
   "cell_type": "markdown",
   "id": "ae346ccd",
   "metadata": {},
   "source": [
    "### 이진 탐색\n",
    "binary_search로 이진탐색을 해주는 코드다. 이게 사실 문제에서 원하는 풀이일 것이라고 생각한다.<br>\n",
    "별 다른 풀이없이 이진탐색 코드 그대로 사용해주면 되는데, 이진탐색을 사용할 때 꼭 `sort()`를 해야한다는 것만 기억하면 될 것 같다.\n",
    "\n",
    "**이진 탐색**\n",
    "- 찾는 값과 data[mid]가 같은 경우라면 값을 찾은 것!\n",
    "- `data[mid] < target` 라면 내가 찾는 값이 더 크니까 범위를 mid 뒤로 바꿔주기 위해 `start = mid + 1`로 설정\n",
    "- `data[mid] > target` 라면 내가 찾는 값이 더 작으니까 end 범위를 mid 앞으로 바꿔줘야 한다! `end = mid - 1`로 설정"
   ]
  },
  {
   "cell_type": "code",
   "execution_count": 7,
   "id": "5734416e",
   "metadata": {},
   "outputs": [
    {
     "name": "stdout",
     "output_type": "stream",
     "text": [
      "5\n",
      "4 1 5 2 3\n",
      "5\n",
      "1 3 7 9 5\n",
      "1\n",
      "1\n",
      "0\n",
      "0\n",
      "1\n"
     ]
    }
   ],
   "source": [
    "n = int(input())\n",
    "n_list = set(map(int, input().split()))\n",
    "\n",
    "m = int(input())\n",
    "m_list = list(map(int, input().split()))\n",
    "\n",
    "for num in m_list:\n",
    "    if num in n_list:\n",
    "        print(1)\n",
    "    else:\n",
    "        print(0)"
   ]
  },
  {
   "cell_type": "markdown",
   "id": "9ed3bf1e",
   "metadata": {},
   "source": [
    "### in 사용\n",
    "문제에서 원하는 방법은 아니겠지만, 어쨌든 정답으로 풀린다.<br>\n",
    "다만 n_list를 list로 한다면 시간 초과가 발생한다. `list(map(int, input().split())` <br>\n",
    "그래서 set으로 받아줬더니 시간 초과 없이 정답처리 되었다! "
   ]
  }
 ],
 "metadata": {
  "kernelspec": {
   "display_name": "Python 3 (ipykernel)",
   "language": "python",
   "name": "python3"
  },
  "language_info": {
   "codemirror_mode": {
    "name": "ipython",
    "version": 3
   },
   "file_extension": ".py",
   "mimetype": "text/x-python",
   "name": "python",
   "nbconvert_exporter": "python",
   "pygments_lexer": "ipython3",
   "version": "3.9.13"
  }
 },
 "nbformat": 4,
 "nbformat_minor": 5
}
