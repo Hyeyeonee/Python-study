{
 "cells": [
  {
   "cell_type": "markdown",
   "id": "98be2698",
   "metadata": {},
   "source": [
    "## [2110] 공유기 설치"
   ]
  },
  {
   "cell_type": "code",
   "execution_count": 69,
   "id": "7a71f80f",
   "metadata": {},
   "outputs": [
    {
     "name": "stdout",
     "output_type": "stream",
     "text": [
      "5 3\n",
      "1\n",
      "2\n",
      "9\n",
      "8\n",
      "4\n",
      "3\n"
     ]
    }
   ],
   "source": [
    "n,c = map(int, input().split())\n",
    "home = [int(input()) for _ in range(n)]\n",
    "home.sort()\n",
    "\n",
    "# 공유기 거리\n",
    "start = 1\n",
    "end = home[-1] - home[0]\n",
    "\n",
    "while start <= end:\n",
    "    mid = (start + end) // 2\n",
    "    current = home[0]\n",
    "    cnt = 1\n",
    "    \n",
    "    for i in range(1, len(home)):\n",
    "        if home[i] >= current + mid:\n",
    "            cnt += 1\n",
    "            current = home[i]\n",
    "    \n",
    "    if cnt >= c: # 공유기 개수가 많으면 거리를 늘려야 함\n",
    "        start = mid + 1\n",
    "        result = mid\n",
    "    else:\n",
    "        end = mid - 1\n",
    "\n",
    "print(result)"
   ]
  },
  {
   "cell_type": "markdown",
   "id": "24931307",
   "metadata": {},
   "source": [
    "이진 탐색에서 중요한 것은 **무엇을 탐색할 것인가!!** ➡️ 공유기 설치의 거리를 탐색해야 한다.\n",
    "\n",
    "현재 내가 있는 위치에 설치를 하고 ➡️ `current = home[0]`, `cnt = 1` <br>\n",
    "mid로 설정한 거리에 맞게 현재 위치에 더하면서, 그 사이에 집이 있으면 설치하고 cnt를 증가, 현재 위치 변경을 해준다. <br>\n",
    "➡️ 공유기가 몇 개 설치되었는지 cnt에 저장되어있다!!\n",
    "\n",
    "`cnt >= c`라면 즉, 설치된 공유기 수가 많아서 그 거리를 늘려서 공유기 개수를 줄여야 한다면 ➡️ `start = mid + 1` <br>\n",
    "반대의 경우라면 ➡️ `end = mid - 1` 해주면 된다."
   ]
  }
 ],
 "metadata": {
  "kernelspec": {
   "display_name": "Python 3 (ipykernel)",
   "language": "python",
   "name": "python3"
  },
  "language_info": {
   "codemirror_mode": {
    "name": "ipython",
    "version": 3
   },
   "file_extension": ".py",
   "mimetype": "text/x-python",
   "name": "python",
   "nbconvert_exporter": "python",
   "pygments_lexer": "ipython3",
   "version": "3.9.13"
  }
 },
 "nbformat": 4,
 "nbformat_minor": 5
}
