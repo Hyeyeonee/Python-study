{
 "cells": [
  {
   "cell_type": "markdown",
   "id": "fda9463a",
   "metadata": {},
   "source": [
    "## [1300] K번째 수"
   ]
  },
  {
   "cell_type": "code",
   "execution_count": 3,
   "id": "f260717a",
   "metadata": {},
   "outputs": [
    {
     "name": "stdout",
     "output_type": "stream",
     "text": [
      "3\n",
      "7\n"
     ]
    },
    {
     "data": {
      "text/plain": [
       "6"
      ]
     },
     "execution_count": 3,
     "metadata": {},
     "output_type": "execute_result"
    }
   ],
   "source": [
    "num = int(input())\n",
    "k = int(input())\n",
    "arr = []\n",
    "\n",
    "for i in range(1, num+1):\n",
    "    for j in range(1, num+1):\n",
    "        arr.append(i*j)\n",
    "        \n",
    "arr.sort()\n",
    "arr[k-1]"
   ]
  },
  {
   "cell_type": "markdown",
   "id": "b2acca05",
   "metadata": {},
   "source": [
    "이렇게 풀면 안 된다 ㅋ <br>\n",
    "시간 초과가 뜨고... 효율적이지 않은 코드라고 한다 ^_^ <br>\n",
    "**이진 탐색**을 사용할 수 있는 문제인데 !! 생각해내는 것이 쉽지가 않다...."
   ]
  },
  {
   "cell_type": "markdown",
   "id": "1dec6289",
   "metadata": {},
   "source": [
    "어떻게 이진 탐색으로 풀 수 있냐에 대해 이해하는 것이 어려운데.. <br>\n",
    "이진 탐색으로 어떤 수보다 작은 (i*j)가 몇 개인지 구하면 된다. <br>\n",
    "A보다 작은 숫자의 개수를 구하면 A가 몇 번째 숫자인지 알 수 있기 떄문이다."
   ]
  },
  {
   "cell_type": "code",
   "execution_count": 6,
   "id": "a66719e3",
   "metadata": {},
   "outputs": [
    {
     "name": "stdout",
     "output_type": "stream",
     "text": [
      "3\n",
      "7\n"
     ]
    },
    {
     "data": {
      "text/plain": [
       "6"
      ]
     },
     "execution_count": 6,
     "metadata": {},
     "output_type": "execute_result"
    }
   ],
   "source": [
    "num = int(input())\n",
    "k = int(input())\n",
    "\n",
    "start, end = 0, k\n",
    "\n",
    "while start <= end:\n",
    "    mid = (start + end) // 2\n",
    "    cnt = 0\n",
    "    \n",
    "    for i in range(1, num+1):\n",
    "        cnt += min(mid//i, num)\n",
    "        \n",
    "    if cnt >= k:\n",
    "        result = mid\n",
    "        end = mid - 1\n",
    "    else:\n",
    "        start = mid + 1\n",
    "        \n",
    "print(result)"
   ]
  },
  {
   "cell_type": "markdown",
   "id": "064d5aaf",
   "metadata": {},
   "source": [
    "**cnt**의 역할이 굉장히 중요한데, cnt는 행렬 A에서 m보다 작은 값의 개수를 뜻한다 !<br>\n",
    "\n",
    "**EXAMPLE** <br>\n",
    "'10 x 10'에서 20 보다 작거나 같은 수는 <br>\n",
    "1x1 ~ 1x10 = 10개 <br>\n",
    "2x1 ~ 2x10 = 10개 <br>\n",
    "3x1 ~ 3x6 = 6개 <br>\n",
    "이런 식으로 돼서 `(20 // 1) + (20 // 2) + (20 // 3) + ... + (20 // 10)`이고 즉, `(k // 1) + (k // 2) + ... (k // n)`이다.<br>\n",
    "\n",
    "`20//1` 부분은 사실 `k//1`로 계산되지만, 20이 아니라 10이다. 그래서 `min(mid//i, num)`를 사용하게 되는 것이다 !! 최대 num값을 갖도록 하는 과정이다. <br>"
   ]
  }
 ],
 "metadata": {
  "kernelspec": {
   "display_name": "Python 3 (ipykernel)",
   "language": "python",
   "name": "python3"
  },
  "language_info": {
   "codemirror_mode": {
    "name": "ipython",
    "version": 3
   },
   "file_extension": ".py",
   "mimetype": "text/x-python",
   "name": "python",
   "nbconvert_exporter": "python",
   "pygments_lexer": "ipython3",
   "version": "3.9.13"
  }
 },
 "nbformat": 4,
 "nbformat_minor": 5
}
