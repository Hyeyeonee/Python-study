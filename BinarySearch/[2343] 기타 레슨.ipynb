{
 "cells": [
  {
   "cell_type": "markdown",
   "id": "fda9463a",
   "metadata": {},
   "source": [
    "## [2343] 기타 레슨"
   ]
  },
  {
   "cell_type": "code",
   "execution_count": 4,
   "id": "6864eb9b",
   "metadata": {},
   "outputs": [
    {
     "name": "stdout",
     "output_type": "stream",
     "text": [
      "9 3\n",
      "1 2 3 4 5 6 7 8 9\n",
      "17\n"
     ]
    }
   ],
   "source": [
    "n, m = map(int, input().split())\n",
    "lecture = list(map(int, input().split()))\n",
    "\n",
    "start, end = max(lecture), sum(lecture)\n",
    "\n",
    "while start <= end:\n",
    "    total = 0\n",
    "    cnt = 1 # 블루레이의 개수\n",
    "    \n",
    "    mid = (start + end) // 2\n",
    "    \n",
    "    for time in lecture: # 블루레이에 영상 담기\n",
    "        if total + time > mid:\n",
    "            cnt += 1\n",
    "            total = 0\n",
    "        total += time\n",
    "        \n",
    "    if cnt > m:\n",
    "        start = mid + 1\n",
    "    else:\n",
    "        result = mid\n",
    "        end = mid - 1\n",
    "\n",
    "print(result)"
   ]
  },
  {
   "cell_type": "markdown",
   "id": "127f6d45",
   "metadata": {},
   "source": [
    "곰곰히 생각해보면.. 엄청 어렵지는 않고 그냥 보면 굉장히 어렵다.. <br><br>\n",
    "\n",
    "**이진 탐색 ➡️ 무엇을 탐색할 것인가?** <br>\n",
    "\n",
    "💡이 문제에서 탐색하고자 하는 것은 **블루레이의 최소 크기** \n",
    "\n",
    "➡️ 이진 탐색을 진행하면서 블루레이의 개수가 많으면 블루레이의 크기를 늘리고, 블루레이의 개수가 적으면 블루레이의 크기를 줄이는 식으로 푼다.\n",
    "\n",
    "<br>\n",
    "\n",
    "\n",
    "**문제 풀이** <br>\n",
    "- 블루레이의 최소 크기를 찾기 위해 start와 end를 설정해야 한다. \n",
    "    - 블루레이의 가장 작은 크기는 강의 시간 중 가장 큰 시간이다. 영상을 하나씩 담는다고 할 경우, 제일 큰 영상이 담기게 하기 위함 <br>\n",
    "    ➡️ `start = max(lecture)`\n",
    "    - 블루레이의 가장 큰 크기는 강의 시간을 다 합친 시간이다. 하나의 블루레이에 담는다면, 모든 영상을 합친 시간만큼 필요하기 때문 <br>\n",
    "    ➡️ `end = sum(lecture)`\n",
    "- 블루레이의 시간을 담는 변수 = `total` / 블루레이의 개수를 담는 변수 = `cnt`\n",
    "- 블루레이에 영상을 담아야 하는데, mid를 넘기지 않는 경우에는 계속 time을 더해주고, 넘긴다면 다음 블루레이에 영상을 담아야 하기 때문에 cnt를 증가시켜주고 total을 초기화시켜준다. (mid에는 블루레이 하나에 들어갈 영상의 길이가 담겨있다.)\n",
    "- 그렇게 mid로 정해진 시간에 따라 담긴 블루레이의 개수가 문제에서 제시한 개수보다 크면, 영상의 길이(mid)가 짧다는 뜻이므로 `start = mid + 1`로 해주고, 다른 경우(cnt <= m)에는 result에 mid를 저장해주고  `end = mid - 1`로 설정해준다."
   ]
  }
 ],
 "metadata": {
  "kernelspec": {
   "display_name": "Python 3 (ipykernel)",
   "language": "python",
   "name": "python3"
  },
  "language_info": {
   "codemirror_mode": {
    "name": "ipython",
    "version": 3
   },
   "file_extension": ".py",
   "mimetype": "text/x-python",
   "name": "python",
   "nbconvert_exporter": "python",
   "pygments_lexer": "ipython3",
   "version": "3.9.13"
  }
 },
 "nbformat": 4,
 "nbformat_minor": 5
}
