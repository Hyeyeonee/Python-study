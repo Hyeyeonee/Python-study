{
 "cells": [
  {
   "cell_type": "markdown",
   "id": "fda9463a",
   "metadata": {},
   "source": [
    "## [2512] 예산"
   ]
  },
  {
   "cell_type": "code",
   "execution_count": 16,
   "id": "2c284740",
   "metadata": {},
   "outputs": [
    {
     "name": "stdout",
     "output_type": "stream",
     "text": [
      "5\n",
      "70 80 30 40 100\n",
      "450\n",
      "100\n"
     ]
    }
   ],
   "source": [
    "num = int(input())\n",
    "budget = list(map(int, input().split()))\n",
    "total = int(input())\n",
    "\n",
    "start = 0\n",
    "end = max(budget)\n",
    "\n",
    "while start <= end:\n",
    "    result = 0\n",
    "    mid = (start + end) // 2\n",
    "\n",
    "    for i in budget:\n",
    "        if i <= mid:\n",
    "            result += i\n",
    "        else:\n",
    "            result += mid\n",
    "\n",
    "    if result <= total:\n",
    "        start = mid + 1\n",
    "    else:\n",
    "        end = mid - 1\n",
    "        \n",
    "print(end)"
   ]
  },
  {
   "cell_type": "markdown",
   "id": "6ba9ce5c",
   "metadata": {},
   "source": [
    "바보 같은 실수로 계속 원하는 결과값이 안 나왔는데,, result를 while문 안에서 초기화를 안 하고 start, end를 선언한 곳에서 같이 해줬다..<br>\n",
    "그렇게 되면 start, end 값이 바뀌고 while문을 다시 돌 때 result값을 그대로 가지고 있게 돼서 계산이 이상하게 된다..! (당연하다..)<br>\n",
    "\n",
    "**문제 풀이!**\n",
    "- 문제에서 입력하라고 하는 것을 num, budget, total로 받아줬다.\n",
    "- `start = 0`, `end = max(budget)`으로 설정 <br>\n",
    "    ➡️ 문제마다 start를 0으로 잡는 것도, min값으로 잡는 것도 있는데 탐색하는 범위에서 차이가 나게 된다. 정답 처리를 받고 이 문제에서도 `start = min(budget)` 시도해봤는데 틀렸다고 나왔다. 정확한 이유는 모르겠으나 범위를 변경하면서 탐색되지 않는 값이 존재하는 것 같다..!\n",
    "- 이진 탐색을 수행해준다. <br>\n",
    "    ➡️ 여기서 result를 0으로 초기화해주면 된다. <br> (reulst : 구한 mid대로 최종 예산안을 짤 경우 총액을 구하기 위한 변수) <br>\n",
    "    ➡️ 그렇게 구한 result가 전체 국가 예산 이하라면 최대의 총 예산을 구하기 위해 `start = mid + 1`로, 전체 국가 예산이 더 작다면 `end = mid - 1`로 설정해준다."
   ]
  }
 ],
 "metadata": {
  "kernelspec": {
   "display_name": "Python 3 (ipykernel)",
   "language": "python",
   "name": "python3"
  },
  "language_info": {
   "codemirror_mode": {
    "name": "ipython",
    "version": 3
   },
   "file_extension": ".py",
   "mimetype": "text/x-python",
   "name": "python",
   "nbconvert_exporter": "python",
   "pygments_lexer": "ipython3",
   "version": "3.9.13"
  }
 },
 "nbformat": 4,
 "nbformat_minor": 5
}
