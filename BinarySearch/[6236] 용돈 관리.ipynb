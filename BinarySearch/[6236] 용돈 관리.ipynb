{
 "cells": [
  {
   "cell_type": "markdown",
   "id": "fda9463a",
   "metadata": {},
   "source": [
    "## [6236] 용돈 관리"
   ]
  },
  {
   "cell_type": "code",
   "execution_count": 46,
   "id": "ebf91e60",
   "metadata": {},
   "outputs": [
    {
     "name": "stdout",
     "output_type": "stream",
     "text": [
      "8 6\n",
      "100\n",
      "400\n",
      "300\n",
      "101\n",
      "600\n",
      "101\n",
      "400\n",
      "200\n",
      "600\n"
     ]
    }
   ],
   "source": [
    "n, m = map(int, input().split())\n",
    "money = [int(input()) for _ in range(n)]\n",
    "\n",
    "start, end = min(money), sum(money)\n",
    "\n",
    "while start <= end:\n",
    "    mid = (start + end) // 2\n",
    "    cnt = 0\n",
    "    total = 0\n",
    "    \n",
    "    for i in money:\n",
    "        if total < i:\n",
    "            total = 0 # 모자르면 다시 넣어놓고\n",
    "            total += mid - i\n",
    "            cnt += 1\n",
    "        else:\n",
    "            total -= i\n",
    "    \n",
    "    if cnt > m or mid < max(money):\n",
    "        start = mid + 1\n",
    "    else:\n",
    "        result = mid\n",
    "        end = mid - 1\n",
    "        \n",
    "print(result)"
   ]
  },
  {
   "cell_type": "code",
   "execution_count": 44,
   "id": "f6eff896",
   "metadata": {},
   "outputs": [
    {
     "name": "stdout",
     "output_type": "stream",
     "text": [
      "7 5\n",
      "100\n",
      "400\n",
      "300\n",
      "100\n",
      "500\n",
      "101\n",
      "400\n",
      "500\n"
     ]
    }
   ],
   "source": [
    "n, m = map(int, input().split())\n",
    "money = [int(input()) for _ in range(n)]\n",
    "\n",
    "start, end = min(money), sum(money)\n",
    "\n",
    "while start <= end:\n",
    "    mid = (start + end) // 2\n",
    "    cnt = 1\n",
    "    total = mid\n",
    "    \n",
    "    for i in money:\n",
    "        if total < i:\n",
    "            total = mid # 모자르면 다시 넣어놓고\n",
    "            cnt += 1\n",
    "        total -= i\n",
    "    \n",
    "    if cnt > m or mid < max(money):\n",
    "        start = mid + 1\n",
    "    else:\n",
    "        end = mid - 1\n",
    "        result = mid\n",
    "        \n",
    "print(result)"
   ]
  },
  {
   "cell_type": "markdown",
   "id": "078cfa65",
   "metadata": {},
   "source": [
    "**💡 틀렸던 이유 !** <br>\n",
    "`mid < max(money)`를 고려하지 않았다. <br>\n",
    "✅ 어쨌든 하루동안 돈을 못 쓰는 날이 생기면 안 되니까 !!\n",
    "\n",
    "<br>\n",
    "\n",
    "    \n",
    "위에 코드와 아래 코드와 다른 점\n",
    "- 위에 코드는 초기화를 아무것도 넣어주지 않은 상태로 해줬고 아래 코드는 처음부터 용돈을 한 번 꺼내고 시작해서` cnt = 1`, `total = mid`로 초기화해주었다.\n",
    "- cnt를 계산해주는 for문에서 if문이나 else문이나 `total -= i`를 해주는 부분이 겹치기 때문에 코드를 단축해주었다.\n",
    "\n",
    "나머지는 동일 !!\n",
    "\n",
    "<br>\n",
    "\n",
    "**문제 풀이**\n",
    "- start와 end 설정 ➡️ 범위는 사용할 돈의 최소부터 다 사용할 돈을 다 합친 것까지 ! (k를 최소로 설정한다고 했으니 사용할 돈의 최대로 시작하는 건 안 된다! 로 생각..)\n",
    "- 몇 번 꺼내쓸 지에 대한 변수 cnt와 내가 쓸 수 있는 돈을 저장할 total 변수 설정\n",
    "- 세운 계획에 따라 total을 활용하여 cnt 계산\n",
    "- cnt > m이면 현우가 설정한 수보다 크기 때문에 꺼내쓸 돈을 더 크게 해서 적게 꺼낼 수 있도록 해야한다. ➡️ `start = mid + 1`\n",
    "- 반대로 cnt < m이면 설정한 것보다 더 적게 꺼냈다는 거니까 돈을 적게 설정해야 한다.➡️ `end = mid - 1`\n",
    "- 가장 중요한 아까 언급한 `mid < max(money)` 추가"
   ]
  }
 ],
 "metadata": {
  "kernelspec": {
   "display_name": "Python 3 (ipykernel)",
   "language": "python",
   "name": "python3"
  },
  "language_info": {
   "codemirror_mode": {
    "name": "ipython",
    "version": 3
   },
   "file_extension": ".py",
   "mimetype": "text/x-python",
   "name": "python",
   "nbconvert_exporter": "python",
   "pygments_lexer": "ipython3",
   "version": "3.9.13"
  }
 },
 "nbformat": 4,
 "nbformat_minor": 5
}
