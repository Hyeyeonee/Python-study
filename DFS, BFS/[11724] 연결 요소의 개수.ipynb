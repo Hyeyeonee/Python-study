{
 "cells": [
  {
   "cell_type": "markdown",
   "id": "61a09f15",
   "metadata": {},
   "source": [
    "## [11724] 연결 요소의 개수"
   ]
  },
  {
   "cell_type": "code",
   "execution_count": 6,
   "id": "9a5204ee",
   "metadata": {},
   "outputs": [
    {
     "name": "stdout",
     "output_type": "stream",
     "text": [
      "6 5\n",
      "1 2\n",
      "2 5\n",
      "5 1\n",
      "3 4\n",
      "4 6\n",
      "2\n"
     ]
    }
   ],
   "source": [
    "import sys\n",
    "sys.setrecursionlimit(10**6)\n",
    "input = sys.stdin.readline\n",
    "\n",
    "n, m = map(int, input().split())\n",
    "cnt = 0\n",
    "\n",
    "graph = [[] for i in range(n+1)]\n",
    "visited = [False] * (n+1)\n",
    "\n",
    "for i in range(m):\n",
    "    a, b = map(int, input().split())\n",
    "    graph[a].append(b)\n",
    "    graph[b].append(a)\n",
    "\n",
    "def dfs(v):\n",
    "    visited[v] = True\n",
    "    for i in graph[v]:\n",
    "        if not visited[i]:\n",
    "            dfs(i)\n",
    "\n",
    "for i in range(1, n+1):\n",
    "    if not visited[i]:\n",
    "        dfs(i)\n",
    "        cnt += 1\n",
    "        \n",
    "print(cnt)"
   ]
  },
  {
   "cell_type": "markdown",
   "id": "29acc42e",
   "metadata": {},
   "source": [
    "맨 처음 코드 앞에 `sys.setrecursionlimit(10**6)`를 하지 않으면, 런타임 에러(Recursion Error)가 난다. <br>\n",
    "재귀 함수를 호출할 때 에러가 나는 것 같은데, 정확한 이유는 잘 모르겠다. <br>\n",
    "검색해보니, 백준 온라인의 recursionlimit은 1000으로 제한이 되어있어서 그렇다고 한다..! <br><br>\n",
    "\n",
    "**문제 풀이!**\n",
    "- 그래프를 양방향으로 연결해줘서 받는다.\n",
    "- 기본적인 dfs를 구현\n",
    "- 모든 노드를 돌면서 visited가 안 되어 있다면, dfs 함수에 들어가게 하고 cnt를 증가시켜준다.\n",
    "- cnt가 그래프 개수가 되는 것이다.\n",
    "\n",
    "<br>\n",
    "그래프가 연결되어 있지 않을 수 있는데 dfs를 돌면서 총 그래프 영역(?)이 몇 개인지 구하는 문제다..!<br>\n",
    "사실 그림을 그려보기 전까지 무슨 문제인지 감이 잘 안 왔다..<br>\n",
    "bfs로 푸나 dfs로 푸나.. 그게 그거지만, 왜 dfs를 골랐냐고 하면.. 연결되어 있는 모든 노드를 쭉 방문하면 연결되어 있지 않은 노드가 나오기 때문..!<br> bfs로 풀어도 마찬가지긴 하다.."
   ]
  }
 ],
 "metadata": {
  "kernelspec": {
   "display_name": "Python 3 (ipykernel)",
   "language": "python",
   "name": "python3"
  },
  "language_info": {
   "codemirror_mode": {
    "name": "ipython",
    "version": 3
   },
   "file_extension": ".py",
   "mimetype": "text/x-python",
   "name": "python",
   "nbconvert_exporter": "python",
   "pygments_lexer": "ipython3",
   "version": "3.9.13"
  }
 },
 "nbformat": 4,
 "nbformat_minor": 5
}
