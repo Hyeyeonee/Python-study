{
 "cells": [
  {
   "cell_type": "markdown",
   "id": "61a09f15",
   "metadata": {},
   "source": [
    "## [2606] 바이러스"
   ]
  },
  {
   "cell_type": "code",
   "execution_count": 10,
   "id": "0827dc31",
   "metadata": {},
   "outputs": [
    {
     "name": "stdout",
     "output_type": "stream",
     "text": [
      "7\n",
      "6\n",
      "1 2\n",
      "2 3\n",
      "1 5\n",
      "5 2\n",
      "5 6\n",
      "4 7\n",
      "4\n"
     ]
    }
   ],
   "source": [
    "def dfs(v):\n",
    "    visited[v] = True\n",
    "    for i in graph[v]:\n",
    "        if not visited[i]:\n",
    "            dfs(i)\n",
    "            \n",
    "com_num = int(input())\n",
    "num = int(input())\n",
    "\n",
    "visited = [False] * (com_num + 1)\n",
    "graph = [[] for i in range(com_num + 1)]\n",
    "\n",
    "for i in range(num):\n",
    "    a, b = map(int, input().split())\n",
    "    graph[a].append(b)\n",
    "    graph[b].append(a)\n",
    "\n",
    "dfs(1)\n",
    "print(sum(visited)-1)"
   ]
  },
  {
   "cell_type": "markdown",
   "id": "3bb3226b",
   "metadata": {},
   "source": [
    "아직 dfs, bfs가 익숙치도 않고.. 어렵다..\n",
    "알고리즘 틀은 이해하고 외운 것 같은데.. 그래프 구현하는 것도 생각보다 어려운 것 같다..\n",
    "\n",
    "<br>\n",
    "\n",
    "**dfs를 사용한 이유 !** <br>\n",
    "사실 bfs를 사용하나 dfs를 사용하나 크게 .. 다를 게 없어보이기는 하다 ^_^,, <br>\n",
    "그래도 1컴퓨터와 연결되어 있는 컴퓨터를 쭉 count하는 것이 더 구현하기 편할 것 같았다. <br>\n",
    "1컴퓨터와 연결 되어있지 않으면 굳이 탐색할 필요없으니까!\n",
    "<br>\n",
    "\n",
    "dfs 코드는 그냥 배운 그대로 적용해도 풀렸고 <br>\n",
    "graph 구성은 양방향으로 연결해주기 위해 a에도 b를 추가해주고, b에도 a를 추가해줘야 한다. <br>\n",
    "➡️ `graph[a].append(b)`, `graph[b].append(a)`\n",
    "\n",
    "마지막으로 방문한 노드의 수를 더해주되, 1컴퓨터를 제외하기 위해 -1을 해주면 된다."
   ]
  }
 ],
 "metadata": {
  "kernelspec": {
   "display_name": "Python 3 (ipykernel)",
   "language": "python",
   "name": "python3"
  },
  "language_info": {
   "codemirror_mode": {
    "name": "ipython",
    "version": 3
   },
   "file_extension": ".py",
   "mimetype": "text/x-python",
   "name": "python",
   "nbconvert_exporter": "python",
   "pygments_lexer": "ipython3",
   "version": "3.9.13"
  }
 },
 "nbformat": 4,
 "nbformat_minor": 5
}
