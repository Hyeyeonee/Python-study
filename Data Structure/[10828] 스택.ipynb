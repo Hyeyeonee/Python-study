{
 "cells": [
  {
   "cell_type": "markdown",
   "id": "8c4e6b77",
   "metadata": {},
   "source": [
    "## [10828] 스택"
   ]
  },
  {
   "cell_type": "code",
   "execution_count": 5,
   "id": "7cdab8dd",
   "metadata": {},
   "outputs": [
    {
     "name": "stdout",
     "output_type": "stream",
     "text": [
      "7\n",
      "pop\n",
      "top\n",
      "push 123\n",
      "top\n",
      "pop\n",
      "top\n",
      "pop\n",
      "-1\n",
      "-1\n",
      "123\n",
      "123\n",
      "-1\n",
      "-1\n"
     ]
    }
   ],
   "source": [
    "num = int(input())\n",
    "stack = []\n",
    "result = []\n",
    "\n",
    "for i in range(num):\n",
    "    cmd = input()\n",
    "    \n",
    "    if cmd == 'pop':\n",
    "        if len(stack) == 0:\n",
    "            result.append(-1)\n",
    "        else:\n",
    "            result.append(stack.pop())\n",
    "    if cmd == 'top':\n",
    "        if len(stack) == 0:\n",
    "            result.append(-1)\n",
    "        else:\n",
    "            result.append(stack[-1])\n",
    "    if cmd == 'size':\n",
    "        result.append(len(stack))\n",
    "    if cmd == 'empty':\n",
    "        if len(stack) == 0:\n",
    "            result.append(1)\n",
    "        else:\n",
    "            result.append(0)\n",
    "    if cmd[:4] == 'push':\n",
    "        stack.append(int(cmd[5:]))\n",
    "\n",
    "for i in result:\n",
    "    print(i)"
   ]
  },
  {
   "cell_type": "markdown",
   "id": "d9363a21",
   "metadata": {},
   "source": [
    "다른 사람들의 채점 결과 시간을 보니 나의 거의 1/10급이길래.. 인터넷에 검색해봤더니 `input = sys.stdin.readline`을 사용했더라! \n",
    "\n",
    "`import sys`를 해서 저렇게 쓰지 않으면 (그냥 input()으로 쓸 경우) 시간 초과가 난다던데, 나는 시간 초과가 나지 않았다..\n",
    "\n",
    "<br>\n",
    "\n",
    "**문제 풀이**\n",
    "- 문제에서 제시한대로 pop과 append를 사용해서 풀이를 해주는데\n",
    "- 실제 stack과 동일하게 구현한 리스트가 stack이고 결과 출력에 필요한 리스트가 result이다.\n",
    "- stack은 따로 라이브러리 없이 리스트에 append, pop을 함으로써 만들어진다. 즉, 리스트를 생각하며 풀어도 된다."
   ]
  },
  {
   "cell_type": "markdown",
   "id": "1f492642",
   "metadata": {},
   "source": [
    "다음은 `sys.stdin.readline`을 사용하여 시간 단축을 시킨 코드이다."
   ]
  },
  {
   "cell_type": "code",
   "execution_count": null,
   "id": "25f4e68c",
   "metadata": {},
   "outputs": [],
   "source": [
    "import sys\n",
    "input = sys.stdin.readline\n",
    "\n",
    "num = int(input())\n",
    "stack = []\n",
    "result = []\n",
    "\n",
    "for i in range(num):\n",
    "    cmd = input().split()\n",
    "    \n",
    "    if cmd[0] == 'pop':\n",
    "        if len(stack) == 0:\n",
    "            result.append(-1)\n",
    "        else:\n",
    "            result.append(stack.pop())\n",
    "    if cmd[0] == 'top':\n",
    "        if len(stack) == 0:\n",
    "            result.append(-1)\n",
    "        else:\n",
    "            result.append(stack[-1])\n",
    "    if cmd[0] == 'size':\n",
    "        result.append(len(stack))\n",
    "    if cmd[0] == 'empty':\n",
    "        if len(stack) == 0:\n",
    "            result.append(1)\n",
    "        else:\n",
    "            result.append(0)\n",
    "    if cmd[0] == 'push':\n",
    "        stack.append(int(cmd[1]))\n",
    "\n",
    "for i in result:\n",
    "    print(i)"
   ]
  }
 ],
 "metadata": {
  "kernelspec": {
   "display_name": "Python 3 (ipykernel)",
   "language": "python",
   "name": "python3"
  },
  "language_info": {
   "codemirror_mode": {
    "name": "ipython",
    "version": 3
   },
   "file_extension": ".py",
   "mimetype": "text/x-python",
   "name": "python",
   "nbconvert_exporter": "python",
   "pygments_lexer": "ipython3",
   "version": "3.9.13"
  }
 },
 "nbformat": 4,
 "nbformat_minor": 5
}
