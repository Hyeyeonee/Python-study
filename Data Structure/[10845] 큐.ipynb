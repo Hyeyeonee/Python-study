{
 "cells": [
  {
   "cell_type": "markdown",
   "id": "8c4e6b77",
   "metadata": {},
   "source": [
    "## [10845] 큐"
   ]
  },
  {
   "cell_type": "code",
   "execution_count": 4,
   "id": "f6c2dbb3",
   "metadata": {},
   "outputs": [
    {
     "name": "stdout",
     "output_type": "stream",
     "text": [
      "15\n",
      "push 1\n",
      "push 2\n",
      "front\n",
      "back\n",
      "size\n",
      "empty\n",
      "pop\n",
      "pop\n",
      "pop\n",
      "size\n",
      "empty\n",
      "pop\n",
      "push 3\n",
      "empty\n",
      "front\n",
      "1\n",
      "2\n",
      "2\n",
      "0\n",
      "1\n",
      "2\n",
      "-1\n",
      "0\n",
      "1\n",
      "-1\n",
      "0\n",
      "3\n"
     ]
    }
   ],
   "source": [
    "from collections import deque\n",
    "\n",
    "queue = deque()\n",
    "result = []\n",
    "num = int(input())\n",
    "\n",
    "for _ in range(num):\n",
    "    cmd = input()\n",
    "    \n",
    "    if cmd[:4] == 'push':\n",
    "        queue.append(int(cmd[5:]))\n",
    "    if cmd == 'pop':\n",
    "        if len(queue) == 0:\n",
    "            result.append(-1)\n",
    "        else:\n",
    "            result.append(queue.popleft())\n",
    "    if cmd == 'size':\n",
    "        result.append(len(queue))\n",
    "    if cmd == 'empty':\n",
    "        if len(queue) == 0:\n",
    "            result.append(1)\n",
    "        else:\n",
    "            result.append(0)\n",
    "    if cmd == 'front':\n",
    "        if len(queue) == 0:\n",
    "            result.append(-1)\n",
    "        else:\n",
    "            result.append(queue[0])\n",
    "    if cmd == 'back':\n",
    "        if len(queue) == 0:\n",
    "            result.append(-1)\n",
    "        else:\n",
    "            result.append(queue[-1])\n",
    "            \n",
    "for i in result:\n",
    "    print(i)"
   ]
  },
  {
   "cell_type": "code",
   "execution_count": null,
   "id": "785688a8",
   "metadata": {},
   "outputs": [],
   "source": [
    "import sys\n",
    "from collections import deque\n",
    "\n",
    "input = sys.stdin.readline\n",
    "queue = deque()\n",
    "result = []\n",
    "num = int(input())\n",
    "\n",
    "for _ in range(num):\n",
    "    cmd = input().split()\n",
    "    \n",
    "    if cmd[0] == 'push':\n",
    "        queue.append(int(cmd[1]))\n",
    "    if cmd[0] == 'pop':\n",
    "        if len(queue) == 0:\n",
    "            result.append(-1)\n",
    "        else:\n",
    "            result.append(queue.popleft())\n",
    "    if cmd[0] == 'size':\n",
    "        result.append(len(queue))\n",
    "    if cmd[0] == 'empty':\n",
    "        if len(queue) == 0:\n",
    "            result.append(1)\n",
    "        else:\n",
    "            result.append(0)\n",
    "    if cmd[0] == 'front':\n",
    "        if len(queue) == 0:\n",
    "            result.append(-1)\n",
    "        else:\n",
    "            result.append(queue[0])\n",
    "    if cmd[0] == 'back':\n",
    "        if len(queue) == 0:\n",
    "            result.append(-1)\n",
    "        else:\n",
    "            result.append(queue[-1])\n",
    "            \n",
    "for i in result:\n",
    "    print(i)"
   ]
  },
  {
   "cell_type": "markdown",
   "id": "ca06b769",
   "metadata": {},
   "source": [
    "**[10828] 스택** 문제랑 뭐가 다른지.. 사실 잘 모르겠다.. 그냥 문제가 큐라서 `deque()`를 사용해주었다.\n",
    "<br>\n",
    "\n",
    "두 코드 모두 정답이라고 나오지만, 역시 `import sys`를 해서 `input = sys.stdin.readline`을 해주는 것이 시간이 약 7배 가까이 단축되었다.\n",
    "스택 문제랑 풀이가 다른 게.. 딱히 없어서 다른 문제도 풀어야겠다...! 그냥 deque()에 익숙해지는데 의의를 두는 문제다 ㅎ"
   ]
  }
 ],
 "metadata": {
  "kernelspec": {
   "display_name": "Python 3 (ipykernel)",
   "language": "python",
   "name": "python3"
  },
  "language_info": {
   "codemirror_mode": {
    "name": "ipython",
    "version": 3
   },
   "file_extension": ".py",
   "mimetype": "text/x-python",
   "name": "python",
   "nbconvert_exporter": "python",
   "pygments_lexer": "ipython3",
   "version": "3.9.13"
  }
 },
 "nbformat": 4,
 "nbformat_minor": 5
}
