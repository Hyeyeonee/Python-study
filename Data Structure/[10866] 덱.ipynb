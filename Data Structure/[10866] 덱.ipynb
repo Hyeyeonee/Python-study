{
 "cells": [
  {
   "cell_type": "markdown",
   "id": "8376288f",
   "metadata": {},
   "source": [
    "## [10866] 덱"
   ]
  },
  {
   "cell_type": "code",
   "execution_count": 3,
   "id": "daabe6d8",
   "metadata": {},
   "outputs": [
    {
     "name": "stdout",
     "output_type": "stream",
     "text": [
      "15\n",
      "push_back 1\n",
      "push_front 2\n",
      "front\n",
      "back\n",
      "size\n",
      "empty\n",
      "pop_front\n",
      "pop_back\n",
      "pop_front\n",
      "size\n",
      "empty\n",
      "pop_back\n",
      "push_front 3\n",
      "empty\n",
      "front\n",
      "2\n",
      "1\n",
      "2\n",
      "0\n",
      "2\n",
      "1\n",
      "-1\n",
      "0\n",
      "1\n",
      "-1\n",
      "0\n",
      "3\n"
     ]
    }
   ],
   "source": [
    "import sys\n",
    "from collections import deque\n",
    "deque = deque()\n",
    "input = sys.stdin.readline\n",
    "result = []\n",
    "\n",
    "num = int(input())\n",
    "\n",
    "for _ in range(num):\n",
    "    cmd = input().split()\n",
    "    \n",
    "    if cmd[0] == 'push_front':\n",
    "        deque.appendleft(cmd[1])\n",
    "    if cmd[0] == 'push_back':\n",
    "        deque.append(cmd[1])\n",
    "    if cmd[0] == 'pop_front':\n",
    "        if len(deque) == 0:\n",
    "            result.append(-1)\n",
    "        else:\n",
    "            result.append(deque.popleft())\n",
    "    if cmd[0] == 'pop_back':\n",
    "        if len(deque) == 0:\n",
    "            result.append(-1)\n",
    "        else:\n",
    "            result.append(deque.pop())\n",
    "    if cmd[0] == 'size':\n",
    "        result.append(len(deque))\n",
    "    if cmd[0] == 'empty':\n",
    "        if len(deque) == 0:\n",
    "            result.append(1)\n",
    "        else:\n",
    "            result.append(0)\n",
    "    if cmd[0] == 'front':\n",
    "        if len(deque) == 0:\n",
    "            result.append(-1)\n",
    "        else:\n",
    "            result.append(deque[0])\n",
    "    if cmd[0] == 'back':\n",
    "        if len(deque) == 0:\n",
    "            result.append(-1)\n",
    "        else:\n",
    "            result.append(deque[-1])\n",
    "            \n",
    "for i in range(len(result)):\n",
    "    print(result[i])"
   ]
  }
 ],
 "metadata": {
  "kernelspec": {
   "display_name": "Python 3 (ipykernel)",
   "language": "python",
   "name": "python3"
  },
  "language_info": {
   "codemirror_mode": {
    "name": "ipython",
    "version": 3
   },
   "file_extension": ".py",
   "mimetype": "text/x-python",
   "name": "python",
   "nbconvert_exporter": "python",
   "pygments_lexer": "ipython3",
   "version": "3.9.13"
  }
 },
 "nbformat": 4,
 "nbformat_minor": 5
}
