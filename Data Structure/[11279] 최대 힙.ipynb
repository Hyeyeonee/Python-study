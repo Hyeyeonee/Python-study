{
 "cells": [
  {
   "cell_type": "markdown",
   "id": "160a3b73",
   "metadata": {},
   "source": [
    "## [11279] 최대 힙"
   ]
  },
  {
   "cell_type": "code",
   "execution_count": 2,
   "id": "07d396f1",
   "metadata": {},
   "outputs": [
    {
     "name": "stdout",
     "output_type": "stream",
     "text": [
      "13\n",
      "0\n",
      "0\n",
      "1\n",
      "2\n",
      "0\n",
      "2\n",
      "0\n",
      "1\n",
      "3\n",
      "2\n",
      "1\n",
      "0\n",
      "3\n",
      "0\n",
      "2\n",
      "0\n",
      "1\n",
      "0\n",
      "0\n",
      "0\n",
      "0\n"
     ]
    }
   ],
   "source": [
    "import sys\n",
    "import heapq\n",
    "hq = []\n",
    "input = sys.stdin.readline\n",
    "\n",
    "num = int(input())\n",
    "for _ in range(num):\n",
    "    n = int(input())\n",
    "    \n",
    "    if n == 0:\n",
    "        if len(hq) == 0:\n",
    "            print(0)\n",
    "        else:\n",
    "            print(heapq.heappop(hq)[1])\n",
    "    else:\n",
    "        heapq.heappush(hq, (-n, n))"
   ]
  },
  {
   "cell_type": "markdown",
   "id": "8b624e8c",
   "metadata": {},
   "source": [
    "이 문제도 `input = sys.stdin.readline`를 해주지 않으면 시간 초과가 난다는 점을 알고 가면 좋겠다. <br>\n",
    "\n",
    "**문제 풀이** <br>\n",
    "문제는 크게 어려울 것 없는 단순한 힙(heap) 자료구조를 사용하는 방법이다.<br>\n",
    "응용해야 하는 점이라면, **최대힙**이라는 것 정도 ! 그냥 힙을 사용하면 최소힙이 나오게 된다. <br>\n",
    "그래서 최대힙을 구현하는 방법이라면 `heapq.heappush(hq, (-n, n))` 이렇게 `(-n, n)`을 해주는 것과 <br>출력할 때 실제 원소값은 튜플의 두 번째 자리에 있으므로 `heapq.heappop(hq)[1]`를 해주는 것이다."
   ]
  }
 ],
 "metadata": {
  "kernelspec": {
   "display_name": "Python 3 (ipykernel)",
   "language": "python",
   "name": "python3"
  },
  "language_info": {
   "codemirror_mode": {
    "name": "ipython",
    "version": 3
   },
   "file_extension": ".py",
   "mimetype": "text/x-python",
   "name": "python",
   "nbconvert_exporter": "python",
   "pygments_lexer": "ipython3",
   "version": "3.9.13"
  }
 },
 "nbformat": 4,
 "nbformat_minor": 5
}
