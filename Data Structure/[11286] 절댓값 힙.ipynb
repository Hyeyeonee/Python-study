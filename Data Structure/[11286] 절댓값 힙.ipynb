{
 "cells": [
  {
   "cell_type": "markdown",
   "id": "26c853b6",
   "metadata": {},
   "source": [
    "## [11286] 절댓값 힙"
   ]
  },
  {
   "cell_type": "code",
   "execution_count": 2,
   "id": "ea37d2d6",
   "metadata": {},
   "outputs": [
    {
     "name": "stdout",
     "output_type": "stream",
     "text": [
      "18\n",
      "1\n",
      "-1\n",
      "0\n",
      "-1\n",
      "0\n",
      "1\n",
      "0\n",
      "0\n",
      "1\n",
      "1\n",
      "-1\n",
      "-1\n",
      "2\n",
      "-2\n",
      "0\n",
      "-1\n",
      "0\n",
      "-1\n",
      "0\n",
      "1\n",
      "0\n",
      "1\n",
      "0\n",
      "-2\n",
      "0\n",
      "2\n",
      "0\n",
      "0\n"
     ]
    }
   ],
   "source": [
    "import sys\n",
    "import heapq\n",
    "input = sys.stdin.readline\n",
    "hq = []\n",
    "\n",
    "num = int(input())\n",
    "for _ in range(num):\n",
    "    n = int(input())\n",
    "    \n",
    "    if n == 0:\n",
    "        if len(hq) == 0:\n",
    "            print(0)\n",
    "        else:\n",
    "            print(heapq.heappop(hq)[1])\n",
    "    else:\n",
    "        heapq.heappush(hq, (abs(n), n))"
   ]
  },
  {
   "cell_type": "markdown",
   "id": "c45287ce",
   "metadata": {},
   "source": [
    "heapq를 사용해서 최소 힙을 만드는 기본적인 문제에 절댓값이라는 key를 추가한 문제다. <br>\n",
    "\n",
    "**문제 풀이** <br>\n",
    "최대 힙을 만들기 위해서는 `heapq.heappush(hq, (-n, n))`을 해줘야 했는데, <br>\n",
    "이번엔 절댓값을 기준으로 우선순위를 정할 것이기 때문에 `-n`이 아니라 `abs(n)`을 사용해주면 된다. 나머지는 최대힙 코드와 같다. <br>\n",
    "\n",
    "우선 순위를 어떤 기준으로 잡느냐에 따라 달라지는 문제이기 때문에 그 부분만 고려해서 문제를 풀면 된다. <br>\n",
    "순서와 요소가 튜플로 들어가있기 때문에 우리가 출력하고자 하는 요소를 꺼내기 위해서는 `heapq.heappop(hq)[1]`처럼 인덱스를 사용해야 한다."
   ]
  }
 ],
 "metadata": {
  "kernelspec": {
   "display_name": "Python 3 (ipykernel)",
   "language": "python",
   "name": "python3"
  },
  "language_info": {
   "codemirror_mode": {
    "name": "ipython",
    "version": 3
   },
   "file_extension": ".py",
   "mimetype": "text/x-python",
   "name": "python",
   "nbconvert_exporter": "python",
   "pygments_lexer": "ipython3",
   "version": "3.9.13"
  }
 },
 "nbformat": 4,
 "nbformat_minor": 5
}
