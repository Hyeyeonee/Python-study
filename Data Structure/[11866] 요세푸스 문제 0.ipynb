{
 "cells": [
  {
   "cell_type": "markdown",
   "id": "e84e974e",
   "metadata": {},
   "source": [
    "## [11866] 요세푸스 문제 0"
   ]
  },
  {
   "cell_type": "code",
   "execution_count": 1,
   "id": "9d95d5ad",
   "metadata": {},
   "outputs": [
    {
     "name": "stdout",
     "output_type": "stream",
     "text": [
      "7 3\n",
      "<3, 6, 2, 7, 5, 1, 4>\n"
     ]
    }
   ],
   "source": [
    "n, k = map(int, input().split())\n",
    "num = []\n",
    "num_result = []\n",
    "\n",
    "for i in range(n):\n",
    "    num.append(i+1)\n",
    "\n",
    "index = 0\n",
    "while len(num) != 0:\n",
    "    index += k-1\n",
    "    if index >= len(num):\n",
    "        index %= len(num)\n",
    "    num_result.append(str(num.pop(index)))\n",
    "\n",
    "print('<'+', '.join(num_result)+'>')"
   ]
  },
  {
   "cell_type": "markdown",
   "id": "ee2052c6",
   "metadata": {},
   "source": [
    "idx 공식을 어떻게 세워야 하는 지만 깨닫는다면, 크게 어려운 문제는 아니지만 꽤나 복잡하게 생각했어서 계속 안 풀렸다..\n",
    "\n",
    "<br>\n",
    "1️⃣ [1, 2, 3, 4, 5, 6, 7] ➡️ idx = 2 <br>\n",
    "2️⃣ [1, 2, 4, 5, 6, 7] ➡️ idx = 4<br>\n",
    "3️⃣ [1, 2, 4, 5, 7] ➡️ idx = 1 ➡️ idx = (4 + (k-1) % len(list)) = 6 % 5<br>\n",
    "4️⃣ [1, 4, 5, 7] ➡️ idx = 3<br>\n",
    "5️⃣ [1, 4, 5] ➡️ idx = 2 ➡️ idx = (3 + (k-1) % len(list)) = 5 % 3 = 2<br>\n",
    "6️⃣ [1, 4] ➡️ idx = 0 ➡️ idx = (4 + (k-1) % len(list)) = 6 % 2 = 0<br>\n",
    "7️⃣ [4] ➡️ idx = 0 ➡️ idx = (0 + (k-1) % len(list)) = 2 % 2 = 0<br>\n",
    "<br>\n",
    "정리하면, idx(index)를 매번 k-1만큼 더해주는데, 그 index가 len(num)이상이면 나머지 연산을 수행해주면 된다."
   ]
  }
 ],
 "metadata": {
  "kernelspec": {
   "display_name": "Python 3 (ipykernel)",
   "language": "python",
   "name": "python3"
  },
  "language_info": {
   "codemirror_mode": {
    "name": "ipython",
    "version": 3
   },
   "file_extension": ".py",
   "mimetype": "text/x-python",
   "name": "python",
   "nbconvert_exporter": "python",
   "pygments_lexer": "ipython3",
   "version": "3.9.13"
  }
 },
 "nbformat": 4,
 "nbformat_minor": 5
}
