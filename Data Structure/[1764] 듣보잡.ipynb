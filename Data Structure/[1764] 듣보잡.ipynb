{
 "cells": [
  {
   "cell_type": "markdown",
   "id": "26c853b6",
   "metadata": {},
   "source": [
    "## [1764] 듣보잡"
   ]
  },
  {
   "cell_type": "code",
   "execution_count": 3,
   "id": "ffe7dcfa",
   "metadata": {},
   "outputs": [
    {
     "name": "stdout",
     "output_type": "stream",
     "text": [
      "3 4\n",
      "ohhenrie\n",
      "charlie\n",
      "baesangwook\n",
      "obama\n",
      "baesangwook\n",
      "ohhenrie\n",
      "clinton\n",
      "2\n",
      "baesangwook\n",
      "ohhenrie\n"
     ]
    }
   ],
   "source": [
    "n, m = map(int, input().split())\n",
    "\n",
    "person = set()\n",
    "result = []\n",
    "for _ in range(n):\n",
    "    prs = input()\n",
    "    if prs not in person:\n",
    "        person.add(prs)\n",
    "        \n",
    "for _ in range(m):\n",
    "    prs = input()\n",
    "    if prs in person:\n",
    "        result.append(prs)\n",
    "result.sort()\n",
    "\n",
    "print(len(result))\n",
    "for prs in result:\n",
    "    print(prs)"
   ]
  },
  {
   "cell_type": "markdown",
   "id": "dcb58fd3",
   "metadata": {},
   "source": [
    "이게 최선의 방법인지는 잘 모르겠지만..! 간단하게 구현해보았다.. <br>\n",
    "\n",
    "**문제 풀이** <br>\n",
    "- `set()`함수를 만들어 듣도 못한 사람들을 추가한다.\n",
    "    - 여기서는 `if prs not in person:`을 사용했지만, 문제에서 '듣도 못한 사람의 명단에는 중복되는 이름이 없으며, 보도 못한 사람의 명단도 마찬가지이다.'라고 했으므로 사실 필요없을 것 같다.\n",
    "- 보도 못한 사람을 입력받고 person (즉, 듣도 못한 사람)에 있으면 결과 리스트에 추가한다.\n",
    "- 출력하기 전에 result를 사전 순으로 정렬한다."
   ]
  }
 ],
 "metadata": {
  "kernelspec": {
   "display_name": "Python 3 (ipykernel)",
   "language": "python",
   "name": "python3"
  },
  "language_info": {
   "codemirror_mode": {
    "name": "ipython",
    "version": 3
   },
   "file_extension": ".py",
   "mimetype": "text/x-python",
   "name": "python",
   "nbconvert_exporter": "python",
   "pygments_lexer": "ipython3",
   "version": "3.9.13"
  }
 },
 "nbformat": 4,
 "nbformat_minor": 5
}
