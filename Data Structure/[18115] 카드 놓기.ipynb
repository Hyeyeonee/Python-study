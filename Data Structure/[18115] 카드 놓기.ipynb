{
 "cells": [
  {
   "cell_type": "markdown",
   "id": "26c853b6",
   "metadata": {},
   "source": [
    "## [18115] 카드 놓기"
   ]
  },
  {
   "cell_type": "code",
   "execution_count": 12,
   "id": "b2ff59e4",
   "metadata": {},
   "outputs": [
    {
     "name": "stdout",
     "output_type": "stream",
     "text": [
      "5\n",
      "2 3 3 2 1\n",
      "1 5 2 3 4 "
     ]
    }
   ],
   "source": [
    "import sys\n",
    "from collections import deque\n",
    "\n",
    "input = sys.stdin.readline\n",
    "num = int(input())\n",
    "skill = list(map(int, input().split()))\n",
    "skill.reverse()\n",
    "deque = deque()\n",
    "n = 0\n",
    "\n",
    "for i in skill:\n",
    "    n += 1\n",
    "    if i == 1:\n",
    "        deque.appendleft(n)\n",
    "    elif i == 2:\n",
    "        deque.insert(1, n)\n",
    "    elif i == 3:\n",
    "        deque.append(n)\n",
    "\n",
    "for i in deque:\n",
    "    print(i, end=' ')"
   ]
  },
  {
   "cell_type": "markdown",
   "id": "3c11da0b",
   "metadata": {},
   "source": [
    "**덱(deque)**을 사용해서 문제를 풀었다.\n",
    "\n",
    "\n",
    "**문제 풀이** <br>\n",
    "카드가 차례대로 정렬되어 있다고 했다. 즉, 1부터 num까지 증가시키면서 카드를 배치해주면 되는데 거꾸로 가야하는 것이 포인트다!<br>\n",
    "- 카드 기술을 리스트로 받아주고, `reverse()`를 해준다!\n",
    "    - 마지막으로 쓴 기술을 통해 맨 위에 카드가 놓이게 되므로 맨 위에 있는 카드부터 (1부터) 마지막 기술에서 처음에 사용한 기술순으로 카드를 배치해줘야 한다.\n",
    "- skill에 해당하는 숫자에 맞춰 값을 덱에 삽입해준다.\n",
    "    - 1이면 가장 위에 있던 카드였기 때문에 가장 왼쪽에 삽입해준다.\n",
    "    - 2라면 위에서 두 번째 카드이므로 덱에서도 왼쪽에서 2번째에 삽입해준다. (insert 사용)\n",
    "    - 3이라면 가장 밑에 있던 카드이므로 덱에서 가장 오른쪽에 삽입해준다."
   ]
  }
 ],
 "metadata": {
  "kernelspec": {
   "display_name": "Python 3 (ipykernel)",
   "language": "python",
   "name": "python3"
  },
  "language_info": {
   "codemirror_mode": {
    "name": "ipython",
    "version": 3
   },
   "file_extension": ".py",
   "mimetype": "text/x-python",
   "name": "python",
   "nbconvert_exporter": "python",
   "pygments_lexer": "ipython3",
   "version": "3.9.13"
  }
 },
 "nbformat": 4,
 "nbformat_minor": 5
}
