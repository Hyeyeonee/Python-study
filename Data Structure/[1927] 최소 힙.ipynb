{
 "cells": [
  {
   "cell_type": "markdown",
   "id": "26c853b6",
   "metadata": {},
   "source": [
    "## [1927] 최소 힙"
   ]
  },
  {
   "cell_type": "code",
   "execution_count": 1,
   "id": "ea37d2d6",
   "metadata": {},
   "outputs": [
    {
     "name": "stdout",
     "output_type": "stream",
     "text": [
      "9\n",
      "0\n",
      "0\n",
      "12345678\n",
      "1\n",
      "2\n",
      "0\n",
      "1\n",
      "0\n",
      "2\n",
      "0\n",
      "12345678\n",
      "0\n",
      "0\n",
      "32\n"
     ]
    }
   ],
   "source": [
    "import sys\n",
    "import heapq\n",
    "input = sys.stdin.readline\n",
    "hq = []\n",
    "\n",
    "num = int(input())\n",
    "for _ in range(num):\n",
    "    cmd = int(input())\n",
    "    \n",
    "    if cmd == 0:\n",
    "        if len(hq) == 0:\n",
    "            print(0)\n",
    "        else:\n",
    "            print(heapq.heappop(hq))\n",
    "    else:\n",
    "        heapq.heappush(hq, cmd)"
   ]
  },
  {
   "cell_type": "markdown",
   "id": "c45287ce",
   "metadata": {},
   "source": [
    "heapq를 사용해서 최소 힙을 만드는 가장 기본적인 문제인 것 같다. <br>\n",
    "힙에 수를 삽입하고 싶으면 `heapq.heappush(hq, cmd)`를 쓰고, 삭제하고 싶으면 `heapq.heappop(hq)`를 쓰면 된다."
   ]
  }
 ],
 "metadata": {
  "kernelspec": {
   "display_name": "Python 3 (ipykernel)",
   "language": "python",
   "name": "python3"
  },
  "language_info": {
   "codemirror_mode": {
    "name": "ipython",
    "version": 3
   },
   "file_extension": ".py",
   "mimetype": "text/x-python",
   "name": "python",
   "nbconvert_exporter": "python",
   "pygments_lexer": "ipython3",
   "version": "3.9.13"
  }
 },
 "nbformat": 4,
 "nbformat_minor": 5
}
