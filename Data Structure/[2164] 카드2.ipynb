{
 "cells": [
  {
   "cell_type": "markdown",
   "id": "98be2698",
   "metadata": {},
   "source": [
    "## [2164] 카드2"
   ]
  },
  {
   "cell_type": "code",
   "execution_count": 21,
   "id": "8dadaf20",
   "metadata": {},
   "outputs": [
    {
     "name": "stdout",
     "output_type": "stream",
     "text": [
      "6\n",
      "4\n"
     ]
    }
   ],
   "source": [
    "from collections import deque\n",
    "queue = deque()\n",
    "\n",
    "num = int(input())\n",
    "for i in range(1, num+1):\n",
    "    queue.append(i)\n",
    "    \n",
    "while len(queue) != 1:\n",
    "    queue.popleft()\n",
    "    queue.rotate(-1)\n",
    "    \n",
    "print(*queue)"
   ]
  },
  {
   "cell_type": "markdown",
   "id": "8f8c4edf",
   "metadata": {},
   "source": [
    "**큐(Queue)**를 사용해서 구현했다 !<br>\n",
    "언제 큐를 쓰고 언제 스택을 쓰는지 아직 조금 모호한 것 같지만.. 큐는 FIFO(선입선출) / 스택은 LIFO(후입선출) 방식이라는 것을 기억하자\n",
    "<br><br>\n",
    "\n",
    "**문제 풀이**\n",
    "- queue를 deque를 사용해서 생성해준 후, 받은 수에 맞게 1부터 append해준다.\n",
    "- 카드가 1장이 남을 때까지 `while len(queue) != 1` 제일 먼저 들어온 (제일 왼쪽에 있는) 카드를 하나 빼주고, 가장 왼쪽에 있는 카드를 가장 오른쪽으로 옮긴다. (가장 위에 있는 카드를 가장 아래로 옮기기)\n",
    "    - `popleft`는 알고 있었지만, `rotate`는 몰랐다..!\n",
    "    - rotate()에 양수를 적으면 시계 방향으로 회전, 음수를 적으면 반시계 방향으로 회전한다.\n",
    "    - 만약 rotate를 모른다면, `queue.append(queue.popleft())`해주면 될거다!\n",
    "    - 이런 문제가 많은지는 모르겠지만, 굉장히 편리한 함수를 알게 됐다!!"
   ]
  }
 ],
 "metadata": {
  "kernelspec": {
   "display_name": "Python 3 (ipykernel)",
   "language": "python",
   "name": "python3"
  },
  "language_info": {
   "codemirror_mode": {
    "name": "ipython",
    "version": 3
   },
   "file_extension": ".py",
   "mimetype": "text/x-python",
   "name": "python",
   "nbconvert_exporter": "python",
   "pygments_lexer": "ipython3",
   "version": "3.9.13"
  }
 },
 "nbformat": 4,
 "nbformat_minor": 5
}
