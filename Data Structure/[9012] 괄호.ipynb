{
 "cells": [
  {
   "cell_type": "markdown",
   "id": "fda9463a",
   "metadata": {},
   "source": [
    "## [9012] 괄호"
   ]
  },
  {
   "cell_type": "code",
   "execution_count": 6,
   "id": "2a203dcf",
   "metadata": {},
   "outputs": [
    {
     "name": "stdout",
     "output_type": "stream",
     "text": [
      "6\n",
      "(())())\n",
      "(((()())()\n",
      "(()())((()))\n",
      "((()()(()))(((())))()\n",
      "()()()()(()()())()\n",
      "(()((())()(\n",
      "NO\n",
      "NO\n",
      "YES\n",
      "NO\n",
      "YES\n",
      "NO\n"
     ]
    }
   ],
   "source": [
    "num = int(input())\n",
    "bracket = [input() for _ in range(num)]\n",
    "\n",
    "for pr in bracket:\n",
    "    flag = 1\n",
    "    stack = []\n",
    "    for i in range(len(pr)):\n",
    "        if pr[i] == '(':\n",
    "            stack.append('(')\n",
    "        else: # ')'가 들어왔을 때\n",
    "            if len(stack) == 0:\n",
    "                flag = 0\n",
    "            else:\n",
    "                stack.pop()\n",
    "    if len(stack) == 0 and flag != 0:\n",
    "        flag = 1\n",
    "    else:\n",
    "        flag = 0\n",
    "        \n",
    "    if flag == 0:\n",
    "        print('NO')\n",
    "    else:\n",
    "        print('YES')"
   ]
  },
  {
   "cell_type": "code",
   "execution_count": 15,
   "id": "dc49be72",
   "metadata": {},
   "outputs": [
    {
     "name": "stdout",
     "output_type": "stream",
     "text": [
      "9\n",
      "(())())\n",
      "(((()())()\n",
      "(()())((()))\n",
      "((()()(()))(((())))()\n",
      "()()()()(()()())()\n",
      "(()((())()(\n",
      "((\n",
      "))\n",
      "())(()\n",
      "NO\n",
      "NO\n",
      "YES\n",
      "NO\n",
      "YES\n",
      "NO\n",
      "NO\n",
      "NO\n",
      "NO\n"
     ]
    }
   ],
   "source": [
    "num = int(input())\n",
    "bracket = [input() for _ in range(num)]\n",
    "\n",
    "for pr in bracket:\n",
    "    stack = []\n",
    "    for i in range(len(pr)):\n",
    "        if pr[i] == '(':\n",
    "            stack.append('(')\n",
    "        else: # ')'가 들어왔을 때\n",
    "            if len(stack) == 0:\n",
    "                print('NO')\n",
    "                break\n",
    "            else:\n",
    "                stack.pop()\n",
    "    else:\n",
    "        if len(stack) == 0:\n",
    "            print('YES')\n",
    "        else:\n",
    "            print('NO')"
   ]
  },
  {
   "cell_type": "markdown",
   "id": "7aa6d46e",
   "metadata": {},
   "source": [
    "위에 코드나 아래 코드나 정답은 같지만, 위에 코드로 풀고 너무 조잡한 것 같아서 수정해봤다. <br>\n",
    "자료구조에서 스택을 배울 때 가장 유명한 예시가 괄호다.\n",
    "\n",
    "<br>\n",
    "\n",
    "**💡 스택을 사용하는 기본적인 아이디어** ➡️ '('가 들어오면 stack에 쌓고, ')'가 들어오면 스택에서 '('를 꺼내준다.\n",
    "\n",
    "- 스택에 아무것도 없는데 ')'가 들어오면 꺼낼 '('가 없기 떄문에 오류다 ! 그래서 `len(stack) == 0`이면 더이상 검사할 필요없이 `break`\n",
    "- 모든 괄호 검사를 마쳤을 때, `len(stack) == 0`이면 모두 잘 매치된 것이기 때문에 'YES'\n",
    "- 괄호 검사가 끝났는데 stack에 괄호가 남아있다면, 매치가 안 된 것이므로 'NO'"
   ]
  }
 ],
 "metadata": {
  "kernelspec": {
   "display_name": "Python 3 (ipykernel)",
   "language": "python",
   "name": "python3"
  },
  "language_info": {
   "codemirror_mode": {
    "name": "ipython",
    "version": 3
   },
   "file_extension": ".py",
   "mimetype": "text/x-python",
   "name": "python",
   "nbconvert_exporter": "python",
   "pygments_lexer": "ipython3",
   "version": "3.9.13"
  }
 },
 "nbformat": 4,
 "nbformat_minor": 5
}
