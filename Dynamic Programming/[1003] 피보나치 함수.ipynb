{
 "cells": [
  {
   "cell_type": "markdown",
   "id": "98be2698",
   "metadata": {},
   "source": [
    "## [1003] 피보나치 함수"
   ]
  },
  {
   "cell_type": "code",
   "execution_count": 62,
   "id": "2289f77b",
   "metadata": {},
   "outputs": [
    {
     "name": "stdout",
     "output_type": "stream",
     "text": [
      "1\n",
      "0\n",
      "1 0\n"
     ]
    }
   ],
   "source": [
    "num = int(input())\n",
    "fb = [int(input()) for _ in range(num)]\n",
    "\n",
    "dp = [[0, 0] for _ in range(max(fb) + 1)]\n",
    "\n",
    "dp[0] = [1, 0]\n",
    "if max(fb) > 0:\n",
    "    dp[1] = [0, 1]\n",
    "\n",
    "for i in range(2, max(fb)+1):\n",
    "    dp[i][0] = dp[i-1][0] + dp[i-2][0]\n",
    "    dp[i][1] = dp[i-1][1] + dp[i-2][1]\n",
    "    \n",
    "for i in fb:\n",
    "    print(dp[i][0], dp[i][1])"
   ]
  },
  {
   "cell_type": "markdown",
   "id": "166ce793",
   "metadata": {},
   "source": [
    "틀린 이유.. 진짜 몇 시간을 왜 이러지? 라고 생각했는데 진짜 몰랐던 정보였다..!<br>\n",
    "`dp = [[0, 0]] * (max(fb) + 1)` 이렇게 dp테이블을 만들었었는데, 이렇게 만들면 사실상 같은 [0, 0] 객체를 참조한다고 한다.<br>\n",
    "그래서 `dp = [[0, 0] for _ in range(max(fb) + 1)]`로 수정했더니.. 됐다.\n",
    "\n",
    "그리고 IndexError가 났는데 0이 입력됐을 때, dp[1]을 초기화하는 부분에서 에러가 난다. `if max(fb) > 0:`로 조건을 추가해줬다.\n",
    "\n",
    "**문제 풀이**<br>\n",
    "간단하다..! 피보나치 함수 몇 개를 계산해보면 알겠지만 현재 index의 전, 전전 dp값을 더하면 된다."
   ]
  }
 ],
 "metadata": {
  "kernelspec": {
   "display_name": "Python 3 (ipykernel)",
   "language": "python",
   "name": "python3"
  },
  "language_info": {
   "codemirror_mode": {
    "name": "ipython",
    "version": 3
   },
   "file_extension": ".py",
   "mimetype": "text/x-python",
   "name": "python",
   "nbconvert_exporter": "python",
   "pygments_lexer": "ipython3",
   "version": "3.9.13"
  }
 },
 "nbformat": 4,
 "nbformat_minor": 5
}
