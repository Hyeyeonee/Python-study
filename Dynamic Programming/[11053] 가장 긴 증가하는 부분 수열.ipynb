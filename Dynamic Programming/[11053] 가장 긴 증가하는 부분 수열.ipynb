{
 "cells": [
  {
   "cell_type": "markdown",
   "id": "f0eee21c",
   "metadata": {},
   "source": [
    "## [11053] 가장 긴 증가하는 부분 수열"
   ]
  },
  {
   "cell_type": "code",
   "execution_count": 11,
   "id": "4a500bee",
   "metadata": {},
   "outputs": [
    {
     "name": "stdout",
     "output_type": "stream",
     "text": [
      "6\n",
      "10 20 10 30 20 50\n",
      "4\n"
     ]
    }
   ],
   "source": [
    "num = int(input())\n",
    "n_list = list(map(int, input().split()))\n",
    "dp = [1] * num\n",
    "\n",
    "# LIS algorithm\n",
    "for i in range(num):\n",
    "    for j in range(i):\n",
    "        if n_list[i] > n_list[j]: # 다음 값이 그 전 값보다 크다면\n",
    "            dp[i] = max(dp[i], dp[j]+1)\n",
    "        \n",
    "print(max(dp))"
   ]
  },
  {
   "cell_type": "markdown",
   "id": "73d835ea",
   "metadata": {},
   "source": [
    "가장 긴 증가하는 부분 수열 알고리즘이 LIS라고 따로 존재하는데 굳이 외우고 있을건 아니고 방식만 알면 된다. <br>\n",
    "\n",
    "**문제 풀이** <br>\n",
    "- num만큼 반복\n",
    "- 현재 수가 이전 수들보다 크다면, dp table을 업데이트 해준다.\n",
    "    - `dp[i] = max(dp[i], dp[j]+1)` 라는 식을 쓰는데, 현재 dp 테이블에 있는 값과 나보다 작은 수의 있는 dp 값 + 1 (해당 위치까지 오려면 +1)과 비교해서 더 큰 수로 업데이트 해주면 된다."
   ]
  }
 ],
 "metadata": {
  "kernelspec": {
   "display_name": "Python 3 (ipykernel)",
   "language": "python",
   "name": "python3"
  },
  "language_info": {
   "codemirror_mode": {
    "name": "ipython",
    "version": 3
   },
   "file_extension": ".py",
   "mimetype": "text/x-python",
   "name": "python",
   "nbconvert_exporter": "python",
   "pygments_lexer": "ipython3",
   "version": "3.9.13"
  }
 },
 "nbformat": 4,
 "nbformat_minor": 5
}
