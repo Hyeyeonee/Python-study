{
 "cells": [
  {
   "cell_type": "markdown",
   "id": "98be2698",
   "metadata": {},
   "source": [
    "## [1463] 1로 만들기"
   ]
  },
  {
   "cell_type": "code",
   "execution_count": 3,
   "id": "6414b0b3",
   "metadata": {},
   "outputs": [
    {
     "name": "stdout",
     "output_type": "stream",
     "text": [
      "10\n",
      "3\n"
     ]
    }
   ],
   "source": [
    "num = int(input())\n",
    "dp = [0] * 1000001\n",
    "\n",
    "for i in range(2, num+1):\n",
    "    dp[i] = dp[i-1] + 1\n",
    "    \n",
    "    if i % 3 == 0:\n",
    "        dp[i] = min(dp[i], dp[i//3] + 1)\n",
    "    if i % 2 == 0:\n",
    "        dp[i] = min(dp[i], dp[i//2] + 1)\n",
    "\n",
    "print(dp[num])"
   ]
  },
  {
   "cell_type": "markdown",
   "id": "a93c5f5d",
   "metadata": {},
   "source": [
    "다이나믹 프로그래밍의 대표 예제 **1로 만들기** <br>\n",
    "DP테이블을 이용해서 결과값을 저장하고 호출하는 식으로 코드를 짜면 된다.\n",
    "\n",
    "**문제 풀이!!**\n",
    "- 입력이 10^6보다 작거나 같은 정수가 주어지므로 DP테이블은 `[0] * 1000001`로 초기화해주었다.\n",
    "- 1을 빼는 경우 ➡ `dp[i] = dp[i-1] + 1`\n",
    "- 3으로 나누는 경우 ➡ `dp[i] = min(dp[i], dp[i//3] + 1)`\n",
    "- 2으로 나누는 경우 ➡ `dp[i] = min(dp[i], dp[i//2] + 1)`\n",
    "\n",
    "Example> `입력 예제` 10 <br>\n",
    "📍10 - 1  <br>\n",
    "`dp[10] = dp[9] + 1` ➡ 9에서 1로 되는 연산보다 연산 횟수 + 1. 왜냐하면, 10 - 1 = 9니까\n",
    "<br>\n",
    "📍9 / 3 = 3 <br>\n",
    "`dp[9] = min(dp[9], dp[3] + 1)` ➡ 3에서 1로 되는 연산보다 연산 횟수 + 1, 왜냐하면 9 /3 = 3이니까\n",
    "<br>\n",
    "📍3 / 3 = 1 <br>\n",
    "`dp[3] = min(dp[3], dp[1] + 1)` ➡ dp[1]보다 연산 횟수 + 1, dp[1]에는 0이 입력되어있다. (1은 연산을 하지 않아도 1이니까)\n",
    "\n",
    "<br>\n",
    "이런 식으로 9를 계산하려면 원래 9 / 3하는 과정을 거치고 3 / 3하는 과정을 거쳐야 하는데, 이미 dp[3]에서 계산되어 있으므로 가져다쓰면 된다."
   ]
  }
 ],
 "metadata": {
  "kernelspec": {
   "display_name": "Python 3 (ipykernel)",
   "language": "python",
   "name": "python3"
  },
  "language_info": {
   "codemirror_mode": {
    "name": "ipython",
    "version": 3
   },
   "file_extension": ".py",
   "mimetype": "text/x-python",
   "name": "python",
   "nbconvert_exporter": "python",
   "pygments_lexer": "ipython3",
   "version": "3.9.13"
  }
 },
 "nbformat": 4,
 "nbformat_minor": 5
}
