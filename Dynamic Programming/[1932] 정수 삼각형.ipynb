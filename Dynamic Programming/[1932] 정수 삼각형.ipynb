{
 "cells": [
  {
   "cell_type": "markdown",
   "id": "f1cd275b",
   "metadata": {},
   "source": [
    "## [1932] 정수 삼각형"
   ]
  },
  {
   "cell_type": "code",
   "execution_count": 10,
   "id": "d0197584",
   "metadata": {},
   "outputs": [
    {
     "name": "stdout",
     "output_type": "stream",
     "text": [
      "5\n",
      "7\n",
      "3 8\n",
      "8 1 0\n",
      "2 7 4 4\n",
      "4 5 2 6 5\n",
      "30\n"
     ]
    }
   ],
   "source": [
    "num = int(input())\n",
    "tri = []\n",
    "dp = []\n",
    "\n",
    "for _ in range(num):\n",
    "    n = list(map(int, input().split()))\n",
    "    tri.append(n)\n",
    "\n",
    "dp = tri\n",
    "\n",
    "for i in range(1, num):\n",
    "    for j in range(len(tri[i])):\n",
    "        if j == 0:\n",
    "            dp[i][j] = tri[i][j] + dp[i-1][0]\n",
    "        elif j == len(tri[i]) - 1:\n",
    "            dp[i][j] = tri[i][j] + dp[i-1][j-1]\n",
    "        else:\n",
    "            dp[i][j] = tri[i][j] + max(dp[i-1][j-1], dp[i-1][j])\n",
    "            \n",
    "print(max(dp[num-1]))"
   ]
  },
  {
   "cell_type": "markdown",
   "id": "e8c721e1",
   "metadata": {},
   "source": [
    "DP문제는 **반복되는 패턴**을 파악하는 것이 중요하다!<br>\n",
    "이 문제에서 반복되고 있는 점을 파악해보자. <br>\n",
    "\n",
    "`dp[0][0] = 7`, `dp[1][0] = dp[0][0] + 3`, `dp[1][1] = dp[0][0] + 8` <br>\n",
    "`dp[2][0] = 8 + dp[1][0]`, `dp[2][1] = 1 + max(dp[1][0], dp[1][1])`, `dp[2][2] = 0 + dp[1][1]`<br>\n",
    "`dp[3][0] = dp[2][0] + 1`, `dp[3][1] = 7 + max(dp[2][0], dp[2][1])`<br>\n",
    "`dp[3][2] = 4 + max(dp[2][1], dp[2][2])`, `dp[3][3] = 4 + dp[2][2]` <br>\n",
    "\n",
    "0번째는 자기 자신의 숫자 + dp[i-1][0]이 되고, (len-1)번째는 자기 자신의 숫자 + dp[i-1][(len-1)]이 된다.<br>\n",
    "나머지는 자기 자신의 숫자 + max(dp[i-1][j-1], dp[i-1][j])이 된다.\n",
    "<br>\n",
    "\n",
    "이를 바탕으로 문제를 풀면 되는데, 삼각형에 해당하는 숫자를 tri로 각 최댓값을 dp로 생성하였다.<br>\n",
    "그리고 출력은 마지막 줄에 있는 dp 값 중 가장 큰 값을 출력하였다."
   ]
  }
 ],
 "metadata": {
  "kernelspec": {
   "display_name": "Python 3 (ipykernel)",
   "language": "python",
   "name": "python3"
  },
  "language_info": {
   "codemirror_mode": {
    "name": "ipython",
    "version": 3
   },
   "file_extension": ".py",
   "mimetype": "text/x-python",
   "name": "python",
   "nbconvert_exporter": "python",
   "pygments_lexer": "ipython3",
   "version": "3.9.13"
  }
 },
 "nbformat": 4,
 "nbformat_minor": 5
}
