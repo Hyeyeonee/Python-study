{
 "cells": [
  {
   "cell_type": "markdown",
   "id": "98be2698",
   "metadata": {},
   "source": [
    "## [2579] 계단 오르기"
   ]
  },
  {
   "cell_type": "code",
   "execution_count": 14,
   "id": "2562e251",
   "metadata": {},
   "outputs": [
    {
     "name": "stdout",
     "output_type": "stream",
     "text": [
      "6\n",
      "10\n",
      "20\n",
      "15\n",
      "25\n",
      "10\n",
      "20\n",
      "75\n"
     ]
    }
   ],
   "source": [
    "num = int(input())\n",
    "score = [int(input()) for _ in range(num)]\n",
    "\n",
    "dp = [0] * (num)\n",
    "\n",
    "dp[0] = score[0]\n",
    "\n",
    "if num > 1:\n",
    "    dp[1] = score[0] + score[1]\n",
    "if num > 2:\n",
    "    dp[2] = max(score[0] + score[2], score[1] + score[2])\n",
    "\n",
    "for i in range(3, num):\n",
    "    dp[i] = max(score[i] + score[i-1] + dp[i-3], score[i] + dp[i-2])\n",
    "    \n",
    "print(dp[num-1])"
   ]
  },
  {
   "cell_type": "markdown",
   "id": "90b5751c",
   "metadata": {},
   "source": [
    "틀린 이유는.. IndexError가 나서였는데, 대체 어디서 나는지 이해가 안 됐다. <br>\n",
    "알고보니 num이 1이나 2일 경우 score에 값이 들어있지 않기 때문에 dp[1], dp[2]를 초기화하는 부분에서 오류가 난다. <br>\n",
    "그래서 `num > 1`이면 dp[1] 초기화, `num > 2`이면 dp[2] 초기화를 해준다..\n",
    "\n",
    "**문제 풀이** <br>\n",
    "- 마지막 계단을 밟아야 하는 게 핵심이다. 마지막 계단을 밟는다면, 경우의 수가 2가지로 나뉘게 된다.\n",
    "    - 마지막 계단 전 계단을 밟는 경우 ➡️ i-1 계단을 밟는 경우, 이때 i-2는 필연적으로 밟아서는 안 되게 된다!!\n",
    "    - 마지막 계단 전전 계단을 밟는 경우 ➡️ i-2 계단을 밟는 경우\n",
    "- 위에 조건에 맞게 코드를 짜게 되면, dp[i-3]이 있기 때문에 dp[0], dp[1], dp[2]를 초기화해야 한다는 것을 알 수 있다.\n",
    "    - 계단을 많이 밟을 수록 점수가 올라가므로, `dp[1] = score[0] + score[1]`\n",
    "    - dp[2]는 `score[0] + score[2]` 또는 `score[1] + score[2]` 중에 더 큰 값을 선택하면 된다.\n",
    "- 계단과 점수를 구분하는 것도 잊지 말자 ! 계단을 사용해서 점수를 누적하면, 계단 점수가 바뀌기 때문에 구분해야 한다.\n",
    "\n",
    "\n",
    "솔직히 조금 어렵다 !"
   ]
  }
 ],
 "metadata": {
  "kernelspec": {
   "display_name": "Python 3 (ipykernel)",
   "language": "python",
   "name": "python3"
  },
  "language_info": {
   "codemirror_mode": {
    "name": "ipython",
    "version": 3
   },
   "file_extension": ".py",
   "mimetype": "text/x-python",
   "name": "python",
   "nbconvert_exporter": "python",
   "pygments_lexer": "ipython3",
   "version": "3.9.13"
  }
 },
 "nbformat": 4,
 "nbformat_minor": 5
}
