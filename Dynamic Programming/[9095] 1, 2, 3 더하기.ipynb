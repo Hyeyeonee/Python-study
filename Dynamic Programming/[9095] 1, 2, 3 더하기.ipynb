{
 "cells": [
  {
   "cell_type": "markdown",
   "id": "98be2698",
   "metadata": {},
   "source": [
    "## [9095] 1, 2, 3 더하기"
   ]
  },
  {
   "cell_type": "code",
   "execution_count": 7,
   "id": "925da2c5",
   "metadata": {},
   "outputs": [
    {
     "name": "stdout",
     "output_type": "stream",
     "text": [
      "3\n",
      "4\n",
      "7\n",
      "10\n",
      "7\n",
      "44\n",
      "274\n"
     ]
    }
   ],
   "source": [
    "num = int(input())\n",
    "n_list = [int(input()) for _ in range(num)]\n",
    "dp = [0] * (max(n_list) + 1)\n",
    "\n",
    "dp[1] = 1\n",
    "dp[2] = 2\n",
    "dp[3] = 4\n",
    "\n",
    "for i in range(4, max(n_list) + 1):\n",
    "    dp[i] = dp[i-1] + dp[i-2] + dp[i-3]\n",
    "\n",
    "for n in n_list:\n",
    "    print(dp[n])"
   ]
  },
  {
   "cell_type": "markdown",
   "id": "2f82539a",
   "metadata": {},
   "source": [
    "아 진짜.. 풀이 다 생각해놨는데 문제를 약간 덜 이해했다.... 이거 때문에 시간 엄청 많이 썼다...\n",
    "\n",
    "뭘 잘못 이해했냐면.. **합을 나타낼 때는 수를 1개 이상 사용**이건데, 무조건 +를 쓰고 수를 써야한다고 잘못 이해해서 dp[1], dp[2], dp[3]을 잘못 연산했다!.. <br>\n",
    "그래서 복잡하게 코드를 짰었는데..\n",
    "\n",
    "1을 만드는 수는 ➡️ 1  ➡️ 1가지 <br>\n",
    "2를 만드는 수는 ➡️ 1+1, 2 ➡️ 2가지 <br>\n",
    "3을 만드는 수는 ➡️ 1+1+1, 2+1, 1+2, 3 ➡️ 4가지 <br>\n",
    "\n",
    "이렇게 세팅해놓고 시작하면 된다.!!"
   ]
  },
  {
   "cell_type": "markdown",
   "id": "cc732a52",
   "metadata": {},
   "source": [
    "코드는 간단하다\n",
    "\n",
    "**문제 풀이** <br>\n",
    "`dp[i] = dp[i-1] + dp[i-2] + dp[i-3]` 쓰면 끝인데 왜인지 풀이해보자면, 결국 1, 2, 3만 사용해서 수를 만드는 것이기 때문이다.<br>\n",
    "\n",
    "예를 들어, 5가 입력됐다고 하자. <br>\n",
    "5는 1+4, 2+3, 3+2 로 나타낼 수 있다. (4+1를 안 하는 이유는 4로는 숫자를 안 만들기 때문 ! <br> \n",
    "즉, 4는 다시 1+3, 2+2, 3+1로 나뉜다. 그럼 앞에 계산한 것과 겹친다.➡️ 4+1 = 3+1+1은 3+2 = 3+1+1과 겹친다.) <br>\n",
    "다시 돌아가서 계산을 하자면, `4를 만드는 연산의 개수 + 3을 만드는 연산의 개수 + 2를 만드는 연산의 개수`를 하면 된다. <br>\n",
    "이건 이미 구해놨다!! ➡️ dp[4], dp[3], dp[2]\n",
    "\n",
    "그래서 결국 숫자 i를 받으면, i-1을 만드는 연산의 개수 `1+(i-1)` + i-2를 만드는 연산의 개수 `2+(i-2)` + i-3을 만드는 연산의 개수 `3+(i-3)` 를 하면 된다. <br>\n",
    "➡️1과 연산 + 2와 연산 + 3과 연산 <br>\n",
    "➡️`dp[i] = dp[i-1] + dp[i-2] + dp[i-3]`"
   ]
  }
 ],
 "metadata": {
  "kernelspec": {
   "display_name": "Python 3 (ipykernel)",
   "language": "python",
   "name": "python3"
  },
  "language_info": {
   "codemirror_mode": {
    "name": "ipython",
    "version": 3
   },
   "file_extension": ".py",
   "mimetype": "text/x-python",
   "name": "python",
   "nbconvert_exporter": "python",
   "pygments_lexer": "ipython3",
   "version": "3.9.13"
  }
 },
 "nbformat": 4,
 "nbformat_minor": 5
}
