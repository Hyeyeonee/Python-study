{
 "cells": [
  {
   "cell_type": "markdown",
   "id": "e84e974e",
   "metadata": {},
   "source": [
    "## [9461] 파도반 수열"
   ]
  },
  {
   "cell_type": "code",
   "execution_count": 4,
   "id": "5e665dd2",
   "metadata": {},
   "outputs": [
    {
     "name": "stdout",
     "output_type": "stream",
     "text": [
      "2\n",
      "6\n",
      "12\n",
      "3\n",
      "16\n"
     ]
    }
   ],
   "source": [
    "num = int(input())\n",
    "n_list = []\n",
    "\n",
    "for _ in range(num):\n",
    "    n_list.append(int(input()))\n",
    "\n",
    "dp = [1] * (max(n_list)+1)\n",
    "for i in range(4, max(n_list) + 1):\n",
    "    dp[i] = dp[i-3] + dp[i-2]\n",
    "    \n",
    "for i in n_list:\n",
    "    print(dp[i])"
   ]
  },
  {
   "cell_type": "markdown",
   "id": "2d8cc893",
   "metadata": {},
   "source": [
    "**문제 풀이** <br>\n",
    "DP 문제여서 dp 테이블을 만들어줬다. <br>\n",
    "여기서 테이블이 어떻게 작동하냐면 ! `dp[i] = dp[i-3] + dp[i-2]`이다. <br>\n",
    "삼각형의 변의 길이는 이렇게 반복적으로 만들어진다. 위의 식을 보면 P(1), P(2), P(3)을 1로 초기화해줘야 한다는 것을 알 수 있다. <br>\n",
    "즉, P(4)부터 dp 테이블에 의해 계산된다. <br>\n",
    "그래서 그냥 처음 dp 테이블을 만들 때 전체를 1로 초기화해주고 테이블에 값을 넣는 반복문을 `range(4, max(n_list) + 1)`로 설정했다."
   ]
  }
 ],
 "metadata": {
  "kernelspec": {
   "display_name": "Python 3 (ipykernel)",
   "language": "python",
   "name": "python3"
  },
  "language_info": {
   "codemirror_mode": {
    "name": "ipython",
    "version": 3
   },
   "file_extension": ".py",
   "mimetype": "text/x-python",
   "name": "python",
   "nbconvert_exporter": "python",
   "pygments_lexer": "ipython3",
   "version": "3.9.13"
  }
 },
 "nbformat": 4,
 "nbformat_minor": 5
}
