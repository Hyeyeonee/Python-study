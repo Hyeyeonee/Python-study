{
 "cells": [
  {
   "cell_type": "markdown",
   "id": "941b4ac7",
   "metadata": {},
   "source": [
    "## [1061] 30"
   ]
  },
  {
   "cell_type": "code",
   "execution_count": 1,
   "id": "ba2d4b10",
   "metadata": {},
   "outputs": [
    {
     "name": "stdout",
     "output_type": "stream",
     "text": [
      "30\n",
      "30\n"
     ]
    }
   ],
   "source": [
    "num = str(input())\n",
    "summ = 0\n",
    "if_10 = 0\n",
    "\n",
    "if '0' in num: # 수에 0이 있는 지 확인 -> 10의 배수인지 확인\n",
    "    if_10 = 1\n",
    "\n",
    "for i in range(len(num)):\n",
    "    summ += int(num[i])\n",
    "    \n",
    "if (summ % 3 == 0) and (if_10 == 1): # 3의 배수이면서 10의 배수\n",
    "    num = sorted(num, reverse=True) # 0이 맨 뒤에 와야하고 다 더해서 3의 배수기만 하면 되니까 가장 큰 30의 배수는 내림차순\n",
    "    print(''.join(num))\n",
    "else:\n",
    "    print(-1)"
   ]
  },
  {
   "cell_type": "markdown",
   "id": "9d6009fe",
   "metadata": {},
   "source": [
    "3의 배수이면서 10의 배수 → 30의 배수\n",
    "\n",
    "- 3의 배수 조건\n",
    "    - 숫자의 모든 자리를 더했을 때 3의 배수\n",
    "- 10의 배수\n",
    "    - 마지막 자리가 0"
   ]
  }
 ],
 "metadata": {
  "kernelspec": {
   "display_name": "Python 3 (ipykernel)",
   "language": "python",
   "name": "python3"
  },
  "language_info": {
   "codemirror_mode": {
    "name": "ipython",
    "version": 3
   },
   "file_extension": ".py",
   "mimetype": "text/x-python",
   "name": "python",
   "nbconvert_exporter": "python",
   "pygments_lexer": "ipython3",
   "version": "3.9.13"
  }
 },
 "nbformat": 4,
 "nbformat_minor": 5
}
