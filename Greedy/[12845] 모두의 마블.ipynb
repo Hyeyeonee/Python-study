{
 "cells": [
  {
   "cell_type": "markdown",
   "id": "de6793df",
   "metadata": {},
   "source": [
    "## [12845] 모두의 마블"
   ]
  },
  {
   "cell_type": "code",
   "execution_count": 1,
   "id": "efcfe327",
   "metadata": {},
   "outputs": [
    {
     "name": "stdout",
     "output_type": "stream",
     "text": [
      "3\n",
      "40 30 30\n",
      "140\n"
     ]
    }
   ],
   "source": [
    "num = int(input())\n",
    "item = list(map(int, input().split()))\n",
    "result = 0\n",
    "\n",
    "max_item = max(item)\n",
    "\n",
    "for i in range(num):\n",
    "    result += max_item + item[i]\n",
    "\n",
    "result -= max_item * 2\n",
    "print(result)"
   ]
  },
  {
   "cell_type": "markdown",
   "id": "d8d38e41",
   "metadata": {},
   "source": [
    "item 중 가장 높은 레벨은 max_item으로 저장\n",
    "\n",
    "인접한 모든 카드를 더한다고 하더라도 어차피 가장 높은 레벨을 가진 item과 더해지는 것이 골드의 최댓값이 됨.\n",
    "\n",
    "→ 결국, max_item(가장 높은 레벨을 가진 item)과 모든 item을 더한 값을 result에 더한다.\n",
    "\n",
    "→ 모든 리스트의 값을 더하다 보면, 자기 자신의 값과 더한 값도 result에 들어가므로 최종 값에 `max_item * 2`를 빼준다."
   ]
  }
 ],
 "metadata": {
  "kernelspec": {
   "display_name": "Python 3 (ipykernel)",
   "language": "python",
   "name": "python3"
  },
  "language_info": {
   "codemirror_mode": {
    "name": "ipython",
    "version": 3
   },
   "file_extension": ".py",
   "mimetype": "text/x-python",
   "name": "python",
   "nbconvert_exporter": "python",
   "pygments_lexer": "ipython3",
   "version": "3.9.13"
  }
 },
 "nbformat": 4,
 "nbformat_minor": 5
}
