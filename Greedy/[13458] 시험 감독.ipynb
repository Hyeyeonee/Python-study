{
 "cells": [
  {
   "cell_type": "markdown",
   "id": "941b4ac7",
   "metadata": {},
   "source": [
    "## [13458] 시험 감독"
   ]
  },
  {
   "cell_type": "code",
   "execution_count": 1,
   "id": "ba2d4b10",
   "metadata": {},
   "outputs": [
    {
     "name": "stdout",
     "output_type": "stream",
     "text": [
      "5\n",
      "1000000 1000000 1000000 1000000 1000000\n",
      "5 7\n",
      "714290\n"
     ]
    }
   ],
   "source": [
    "num = int(input())\n",
    "cls = list(map(int, input().split()))\n",
    "b, c = map(int, input().split())\n",
    "sup = 0\n",
    "\n",
    "for i in range(num):\n",
    "    cls[i] -= b\n",
    "    if cls[i] > 0 :\n",
    "        sup += cls[i] // c\n",
    "        if cls[i] % c != 0:\n",
    "            sup += 1\n",
    "\n",
    "print(num + sup)"
   ]
  },
  {
   "cell_type": "code",
   "execution_count": 2,
   "id": "38fb0da5",
   "metadata": {},
   "outputs": [
    {
     "name": "stdout",
     "output_type": "stream",
     "text": [
      "5\n",
      "10 9 10 9 10\n",
      "7 20\n",
      "10\n"
     ]
    }
   ],
   "source": [
    "num = int(input())\n",
    "cls = list(map(int, input().split()))\n",
    "b, c = map(int, input().split())\n",
    "sup = 0\n",
    "\n",
    "for i in range(num):\n",
    "    cls[i] -= b\n",
    "    if cls[i] > 0 :\n",
    "        if cls[i] % c == 0:\n",
    "            sup += cls[i] // c\n",
    "        else:\n",
    "            sup += cls[i] // c + 1\n",
    "            \n",
    "print(num + sup)"
   ]
  },
  {
   "cell_type": "markdown",
   "id": "fc720731",
   "metadata": {},
   "source": [
    "- 시험장 수 == 총 감독관 수\n",
    "\n",
    "구해야 하는 것은 부감독관 수\n",
    "\n",
    "각 교실에 있는 학생 수에서 총 감독관이 감시할 수 있는 수를 빼주고 나머지 학생들을 부감독관 몇 명이서 감시해야 하는지 구하면 된다.\n",
    "\n",
    "처음에 풀 때 `cls[i] ! = 0` 라고 썼는데 총감독관이 더 많은 수를 감독할 수 있으니까 ! = 이 아니라 > 를 사용해야 한다.\n",
    "\n",
    "`남은 학생 수 / 부감독관이 감시할 수 있는 학생 수` 를 했을 때 나누어 떨어지지 않는다면 감독관이 한 명 더 필요하게 되므로 +1을 해준다."
   ]
  }
 ],
 "metadata": {
  "kernelspec": {
   "display_name": "Python 3 (ipykernel)",
   "language": "python",
   "name": "python3"
  },
  "language_info": {
   "codemirror_mode": {
    "name": "ipython",
    "version": 3
   },
   "file_extension": ".py",
   "mimetype": "text/x-python",
   "name": "python",
   "nbconvert_exporter": "python",
   "pygments_lexer": "ipython3",
   "version": "3.9.13"
  }
 },
 "nbformat": 4,
 "nbformat_minor": 5
}
