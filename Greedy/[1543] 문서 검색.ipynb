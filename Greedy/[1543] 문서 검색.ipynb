{
 "cells": [
  {
   "cell_type": "markdown",
   "id": "98be2698",
   "metadata": {},
   "source": [
    "## [1543] 문서 검색"
   ]
  },
  {
   "cell_type": "code",
   "execution_count": 15,
   "id": "36e60d39",
   "metadata": {},
   "outputs": [
    {
     "name": "stdout",
     "output_type": "stream",
     "text": [
      "ababababa\n",
      "aba\n",
      "2\n"
     ]
    }
   ],
   "source": [
    "doc = input()\n",
    "find = input()\n",
    "cnt, i = 0, 0\n",
    "\n",
    "while i <= len(doc) - len(find):\n",
    "    if doc[i:i+len(find)] == find:\n",
    "        cnt += 1\n",
    "        i += len(find)\n",
    "    else:\n",
    "        i += 1\n",
    "        \n",
    "print(cnt)"
   ]
  },
  {
   "cell_type": "markdown",
   "id": "2a3eb3f9",
   "metadata": {},
   "source": [
    "**문제 풀이** <br>\n",
    "문서에서 한 문자씩 옮겨가면서 단어가 있는지 검사하면 된다.<br>\n",
    "doc에서 find와 같은 문자열인지를 문자열 길이만큼(len(find)) 잘라서 확인하고 맞으면 cnt를 증가시키고, <br>\n",
    "다음 검색은 현재 검색한 마지막 문자 다음부터 될 수 있도록 i를 증가시킨다. <br>\n",
    "여기서 중요한 것은 단어를 찾지 못하면 그 다음 문자부터 다시 검색해야 하므로 i를 1씩 증가시킨다."
   ]
  }
 ],
 "metadata": {
  "kernelspec": {
   "display_name": "Python 3 (ipykernel)",
   "language": "python",
   "name": "python3"
  },
  "language_info": {
   "codemirror_mode": {
    "name": "ipython",
    "version": 3
   },
   "file_extension": ".py",
   "mimetype": "text/x-python",
   "name": "python",
   "nbconvert_exporter": "python",
   "pygments_lexer": "ipython3",
   "version": "3.9.13"
  }
 },
 "nbformat": 4,
 "nbformat_minor": 5
}
