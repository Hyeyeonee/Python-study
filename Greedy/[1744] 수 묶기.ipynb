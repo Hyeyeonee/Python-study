{
 "cells": [
  {
   "cell_type": "markdown",
   "id": "de6793df",
   "metadata": {},
   "source": [
    "## [1744] 수 묶기"
   ]
  },
  {
   "cell_type": "code",
   "execution_count": 1,
   "id": "efcfe327",
   "metadata": {},
   "outputs": [
    {
     "name": "stdout",
     "output_type": "stream",
     "text": [
      "5\n",
      "-37\n",
      "-2\n",
      "-15\n",
      "12\n",
      "8\n",
      "649\n"
     ]
    }
   ],
   "source": [
    "num = int(input())\n",
    "cnt = 0\n",
    "result = 0\n",
    "seq = list(int(input()) for i in range(num))\n",
    "seq.sort()\n",
    "\n",
    "for i in seq:\n",
    "    if i <= 0 :\n",
    "        cnt += 1\n",
    "        \n",
    "seq1 = seq[:cnt]\n",
    "seq2 = seq[cnt:]\n",
    "seq1.sort()\n",
    "seq2.sort(reverse=True)\n",
    "\n",
    "# 양수값 더하기\n",
    "for i in range(len(seq2) // 2):\n",
    "    if seq2[i*2] == 1 or seq2[(i*2)+1] == 1: # 1은 곱하는 것보다 더하는 것이 최대값을 만들 수 있음\n",
    "        result += seq2[i*2] + seq2[(i*2)+1]\n",
    "    else:\n",
    "        result += seq2[i*2] * seq2[(i*2)+1]\n",
    "if len(seq2) % 2 != 0:\n",
    "    result += seq2[-1]\n",
    "\n",
    "# 음수값 더하기    \n",
    "for j in range(len(seq1) // 2):\n",
    "    result += seq1[j*2] * seq1[(j*2)+1]\n",
    "if len(seq1) % 2 != 0:\n",
    "    result += seq1[-1]\n",
    "        \n",
    "print(result)"
   ]
  },
  {
   "cell_type": "markdown",
   "id": "d8d38e41",
   "metadata": {},
   "source": [
    "앗..! 바보 같이 틀렸었다..! 음수값은 정렬을 reverse로 해주지 않는 것이 낮은 순부터 정렬이 되는 건데, 양수랑 똑같이 reverse를 자꾸 해줬다….\n",
    "\n",
    "### 문제 풀이\n",
    "\n",
    "- 일단 양수와 음수(0포함)으로 리스트를 분리해줬다.\n",
    "- 양수는 `reverse=True`로 설정하여 큰 값부터 앞에 나오도록 정렬한 후, 두 개씩 묶어서 곱해주고 리스트의 길이가 홀수가 아닌 경우, 마지막에 있는 값은 더해주었다.\n",
    "    - 여기서 중요한 것은, 1은 곱하는 것보다 더하는 것이 최대값으로 만들 수 있다는 것이다!\n",
    "    - 1은 곱해봤자 자기 자신밖에 안 되니.. 더해주자 !\n",
    "- 음수 리스트도 양수와 동일한 방식으로 하되, sort할 때 reverse를 하지 않는다는 점, 양수에서의 1과 같이 예외 사항이 없다는 점만 참고하면 된다.\n",
    "    - 리스트에 0이 있더라도 어차피 상관없이 동일하게 계산된다!"
   ]
  }
 ],
 "metadata": {
  "kernelspec": {
   "display_name": "Python 3 (ipykernel)",
   "language": "python",
   "name": "python3"
  },
  "language_info": {
   "codemirror_mode": {
    "name": "ipython",
    "version": 3
   },
   "file_extension": ".py",
   "mimetype": "text/x-python",
   "name": "python",
   "nbconvert_exporter": "python",
   "pygments_lexer": "ipython3",
   "version": "3.9.13"
  }
 },
 "nbformat": 4,
 "nbformat_minor": 5
}
