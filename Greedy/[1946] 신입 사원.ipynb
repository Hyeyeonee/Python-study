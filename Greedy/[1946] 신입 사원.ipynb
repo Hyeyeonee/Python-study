{
 "cells": [
  {
   "cell_type": "markdown",
   "id": "98be2698",
   "metadata": {},
   "source": [
    "## [1946] 신입 사원"
   ]
  },
  {
   "cell_type": "code",
   "execution_count": 11,
   "id": "5830ea01",
   "metadata": {},
   "outputs": [
    {
     "name": "stdout",
     "output_type": "stream",
     "text": [
      "2\n",
      "5\n",
      "3 2\n",
      "1 4\n",
      "4 1\n",
      "2 3\n",
      "5 5\n",
      "4\n",
      "7\n",
      "3 6\n",
      "7 3\n",
      "4 2\n",
      "1 4\n",
      "5 7\n",
      "2 5\n",
      "6 1\n",
      "3\n"
     ]
    }
   ],
   "source": [
    "t = int(input())\n",
    "\n",
    "for _ in range(t):\n",
    "    n = int(input())\n",
    "    prs =[list(map(int, input().split())) for _ in range(n)]\n",
    "    prs.sort(key=lambda x:x[0])\n",
    "    \n",
    "    cnt = 1\n",
    "    crt = prs[0][1]\n",
    "    for i in range(1, n):\n",
    "        if crt > prs[i][1]:\n",
    "            cnt += 1\n",
    "            crt = prs[i][1]\n",
    "            \n",
    "    print(cnt)"
   ]
  },
  {
   "cell_type": "markdown",
   "id": "06a1e69b",
   "metadata": {},
   "source": [
    "실버 1이라더니.. 쉽지 않다ㅠ <br>\n",
    "입력받고 서류 순위로 sort하는 것까지는 쉬웠는데, 면접에서 `다른 모든 지원자와 비교했을 때 서류심사 성적과 면접시험 성적 중 적어도 하나가 다른 지원자보다 떨어지지 않는 자만 선발한다`를 구현하기가 어려웠다. <br>\n",
    "\n",
    "\n",
    "어차피 첫 번째 지원자는 뽑을 거니까 cnt는 1로 초기화했다. <br>\n",
    "그리고 현재(crt) 변수에 첫 번째 지원자의 면접 순위를 입력하고 다음 면접자의 순위와 비교해 현재가 더 크면 cnt를 증가시켜준다.<br>\n",
    "여기서 중요한 것은 증가시키고 난 다음에 현재 변수에 뽑힌 다음 면접자의 순위를 다시 입력해주는 것이다. <br>\n",
    "for문은 사실 i에 수를 할당해서 돌아가는 방식이 아니라 반복할 횟수를 지정하는 것이다. 즉, 이 코드에서 for문은 면접자 수만큼 돌아간다."
   ]
  }
 ],
 "metadata": {
  "kernelspec": {
   "display_name": "Python 3 (ipykernel)",
   "language": "python",
   "name": "python3"
  },
  "language_info": {
   "codemirror_mode": {
    "name": "ipython",
    "version": 3
   },
   "file_extension": ".py",
   "mimetype": "text/x-python",
   "name": "python",
   "nbconvert_exporter": "python",
   "pygments_lexer": "ipython3",
   "version": "3.9.13"
  }
 },
 "nbformat": 4,
 "nbformat_minor": 5
}
