{
 "cells": [
  {
   "cell_type": "markdown",
   "id": "941b4ac7",
   "metadata": {},
   "source": [
    "## [1969] DNA"
   ]
  },
  {
   "cell_type": "code",
   "execution_count": 1,
   "id": "ba2d4b10",
   "metadata": {},
   "outputs": [
    {
     "name": "stdout",
     "output_type": "stream",
     "text": [
      "4 10\n",
      "ACGTACGTAC\n",
      "CCGTACGTAG\n",
      "GCGTACGTAT\n",
      "TCGTACGTAA\n",
      "ACGTACGTAA\n",
      "6\n"
     ]
    }
   ],
   "source": [
    "num, length = map(int, input().split())\n",
    "dna = []\n",
    "result = []\n",
    "cnt = 0\n",
    "\n",
    "for i in range(num):\n",
    "    dna.append(input())\n",
    "    \n",
    "for i in range(length):\n",
    "    dna_list = []\n",
    "    for j in range(num):\n",
    "        dna_list.append(dna[j][i])\n",
    "    dna_cnt = sorted(dna_list)\n",
    "    result.append(max(dna_cnt, key=dna_list.count))\n",
    "\n",
    "for i in range(length):\n",
    "    for j in range(num):\n",
    "        if result[i] != dna[j][i]:\n",
    "            cnt += 1\n",
    "\n",
    "result2 = ''.join(result)\n",
    "print(result2)\n",
    "print(cnt)"
   ]
  },
  {
   "cell_type": "code",
   "execution_count": 2,
   "id": "38fb0da5",
   "metadata": {},
   "outputs": [
    {
     "name": "stdout",
     "output_type": "stream",
     "text": [
      "6 10\n",
      "ATGTTACCAT\n",
      "AAGTTACGAT\n",
      "AACAAAGCAA\n",
      "AAGTTACCTT\n",
      "AAGTTACCAA\n",
      "TACTTACCAA\n",
      "AAGTTACCAA\n",
      "12\n"
     ]
    }
   ],
   "source": [
    "from collections import Counter\n",
    "\n",
    "num, length = map(int, input().split())\n",
    "dna = []\n",
    "result = []\n",
    "cnt = 0\n",
    "\n",
    "for i in range(num):\n",
    "    dna.append(input())\n",
    "    \n",
    "for i in range(length):\n",
    "    dna_list = []\n",
    "    for j in range(num):\n",
    "        dna_list.append(dna[j][i])\n",
    "        \n",
    "    counts = Counter(dna_list)    \n",
    "    max_count = max(counts.values()) # 최빈값 개수\n",
    "    most_common_values = [value for value, count in counts.items() if count == max_count]\n",
    "    most_common_values.sort() # 사전순 정렬\n",
    "    result.append(most_common_values[0])\n",
    "    \n",
    "for i in range(length):\n",
    "    for j in range(num):\n",
    "        if result[i] != dna[j][i]:\n",
    "            cnt += 1\n",
    "\n",
    "result2 = ''.join(result)\n",
    "print(result2)\n",
    "print(cnt)"
   ]
  },
  {
   "cell_type": "markdown",
   "id": "fc720731",
   "metadata": {},
   "source": [
    "리스트를 만들어서 가장 많이 등장한 문자를 찾자 !\n",
    "\n",
    "최빈값의 개수가 동일하면 **사전순으로 정렬하고 뽑자**\n",
    "\n",
    "→ 동일한 경우가 있을 수 있으니 정렬하고 append 해줬음\n",
    "\n",
    "다른 문자열이 있는지에 대한 개수는 cnt로 카운트했다.\n",
    "\n",
    "```\n",
    "TATGATAC\n",
    "TAAGCTAC\n",
    "AAAGATCC\n",
    "TGAGATAC\n",
    "TAAGATGT\n",
    "```\n",
    "\n",
    "이렇게 문자열이 주어지면, 8자의 문자를 반복하여 찾아준다.\n",
    "\n",
    "1️⃣ [’T’, ‘T’, ‘A’, ‘T’, ‘T’] → T\n",
    "\n",
    "2️⃣ [’A’,’A,’A’,’G’,’A’] → A\n",
    "\n",
    "이런 식으로 찾아주면 된다. 그래서 최빈값을 고를 수 있도록 코드를 짰다.\n",
    "\n",
    "즉, DNA 개수 & 문자열 길이 만큼 FOR문으로 반복하면 된다."
   ]
  }
 ],
 "metadata": {
  "kernelspec": {
   "display_name": "Python 3 (ipykernel)",
   "language": "python",
   "name": "python3"
  },
  "language_info": {
   "codemirror_mode": {
    "name": "ipython",
    "version": 3
   },
   "file_extension": ".py",
   "mimetype": "text/x-python",
   "name": "python",
   "nbconvert_exporter": "python",
   "pygments_lexer": "ipython3",
   "version": "3.9.13"
  }
 },
 "nbformat": 4,
 "nbformat_minor": 5
}
