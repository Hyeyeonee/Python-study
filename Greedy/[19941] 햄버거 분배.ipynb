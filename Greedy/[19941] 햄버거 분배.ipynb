{
 "cells": [
  {
   "cell_type": "markdown",
   "id": "6b170c68-917b-4bff-b4c2-90a19e92051a",
   "metadata": {},
   "source": [
    "## 19941 : 햄버거 분배"
   ]
  },
  {
   "cell_type": "code",
   "execution_count": 2,
   "id": "3b615023-f273-4c37-b325-ea80527e97eb",
   "metadata": {},
   "outputs": [
    {
     "name": "stdin",
     "output_type": "stream",
     "text": [
      " 12 2\n",
      " HPHPHPHHPPHP\n"
     ]
    },
    {
     "name": "stdout",
     "output_type": "stream",
     "text": [
      "6\n"
     ]
    }
   ],
   "source": [
    "N, K = map(int, input().split())\n",
    "table = list(input())\n",
    "count = 0\n",
    "\n",
    "for i in range(len(table)):\n",
    "    if table[i] == 'P':\n",
    "        for j in range(max(i-K, 0), min(i+K+1, N)):\n",
    "            if table[j] == 'H':\n",
    "                table[j] = 0\n",
    "                count += 1\n",
    "                break\n",
    "                    \n",
    "print(count)"
   ]
  },
  {
   "cell_type": "markdown",
   "id": "b5d63d36-63d3-4b8c-8166-9cc31605b23a",
   "metadata": {},
   "source": [
    "**💡탐색할 수 있는 범위에서 왼쪽부터 있는지 확인!**\n",
    "\n",
    "탐색할 때, 범위가 넘어가지 않도록 MAX, MIN 사용해주는 방법이 아주 굿..\n",
    "\n",
    "\n",
    "**📍 틀린 이유 1:** 먼저 내 기준 왼쪽을 탐색하고 없으면 오른쪽을 탐색하는 아주.. 복잡한 방법을 생각했다 ㅜ\n",
    "\n",
    "**📍 틀린 이유 2:** `min(i+K+1, N)`에서 i+K+1에 +1을 안 해줬다. . ."
   ]
  }
 ],
 "metadata": {
  "kernelspec": {
   "display_name": "Python 3 (ipykernel)",
   "language": "python",
   "name": "python3"
  },
  "language_info": {
   "codemirror_mode": {
    "name": "ipython",
    "version": 3
   },
   "file_extension": ".py",
   "mimetype": "text/x-python",
   "name": "python",
   "nbconvert_exporter": "python",
   "pygments_lexer": "ipython3",
   "version": "3.12.7"
  }
 },
 "nbformat": 4,
 "nbformat_minor": 5
}
