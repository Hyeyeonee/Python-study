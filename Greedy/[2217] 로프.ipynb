{
 "cells": [
  {
   "cell_type": "markdown",
   "id": "941b4ac7",
   "metadata": {},
   "source": [
    "## [2217] 로프"
   ]
  },
  {
   "cell_type": "code",
   "execution_count": 2,
   "id": "ba2d4b10",
   "metadata": {},
   "outputs": [
    {
     "name": "stdout",
     "output_type": "stream",
     "text": [
      "3\n",
      "8\n",
      "9\n",
      "1\n",
      "16\n"
     ]
    }
   ],
   "source": [
    "num = int(input())\n",
    "weight = []\n",
    "rope = []\n",
    "\n",
    "for i in range(num):\n",
    "    weight.append(int(input()))\n",
    "\n",
    "weight.sort()\n",
    "\n",
    "for i in range(num):\n",
    "    rope.append(min(weight)*(num-i))\n",
    "    del weight[0]\n",
    "\n",
    "print(max(rope))"
   ]
  },
  {
   "cell_type": "markdown",
   "id": "9d6009fe",
   "metadata": {},
   "source": [
    "버틸 수 있는 무게가 가장 작은 로프 * (로프의 개수) 를 하는 게 답 !\n",
    "\n",
    "문제 주요 key point\n",
    "`모든 로프를 사용해야 할 필요는 없으며, 임의로 몇 개의 로프를 골라서 사용해도 된다.`\n",
    "\n",
    "<br>\n",
    "\n",
    "만약 3, 8, 9, 1로 데이터가 주어졌다면, 답은 3이 아니라 16이 된다.\n",
    "\n",
    "→ 즉 16을 2개의 밧줄로 나눠 드는 것이 최댓값이라는 뜻\n",
    "\n",
    "→ 가장 작은 무게를 버티는 로프를 빼가면서 들 수 있는 최대 무게를 찾으면 된다."
   ]
  }
 ],
 "metadata": {
  "kernelspec": {
   "display_name": "Python 3 (ipykernel)",
   "language": "python",
   "name": "python3"
  },
  "language_info": {
   "codemirror_mode": {
    "name": "ipython",
    "version": 3
   },
   "file_extension": ".py",
   "mimetype": "text/x-python",
   "name": "python",
   "nbconvert_exporter": "python",
   "pygments_lexer": "ipython3",
   "version": "3.9.13"
  }
 },
 "nbformat": 4,
 "nbformat_minor": 5
}
