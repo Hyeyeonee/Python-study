{
 "cells": [
  {
   "cell_type": "markdown",
   "id": "8b04092b",
   "metadata": {},
   "source": [
    "## [2875] 대회 or 인턴"
   ]
  },
  {
   "cell_type": "code",
   "execution_count": 19,
   "id": "deb1afee",
   "metadata": {},
   "outputs": [
    {
     "name": "stdout",
     "output_type": "stream",
     "text": [
      "6 3 4\n",
      "1\n"
     ]
    }
   ],
   "source": [
    "n, m, k = map(int, input().split())\n",
    "cnt = 0\n",
    "\n",
    "while (n >= 2 and m >= 1 and (n+m >= k+3)): # 한 팀을 더 만들어도 되는지 반복\n",
    "    n -= 2\n",
    "    m -= 1\n",
    "    cnt += 1\n",
    "    \n",
    "print(cnt)"
   ]
  },
  {
   "cell_type": "markdown",
   "id": "b79c8f21",
   "metadata": {},
   "source": [
    "`n≥2` `m ≥1` `n+m ≥ k+ 3`\n",
    "\n",
    "세 조건 모두 한 팀을 더 만들어도 되는 지에 대한 조건\n",
    "\n",
    "- n ≥ 2\n",
    "    - 남자 2명이 빠진다\n",
    "- m ≥ 1\n",
    "    - 여자 1명이 빠진다\n",
    "- n + m ≥ k + 3\n",
    "    - n + m - 3 ≥ k 와 동일\n",
    "    - 한 팀을 더 만들어도 인턴을 채울 수 있는지"
   ]
  }
 ],
 "metadata": {
  "kernelspec": {
   "display_name": "Python 3 (ipykernel)",
   "language": "python",
   "name": "python3"
  },
  "language_info": {
   "codemirror_mode": {
    "name": "ipython",
    "version": 3
   },
   "file_extension": ".py",
   "mimetype": "text/x-python",
   "name": "python",
   "nbconvert_exporter": "python",
   "pygments_lexer": "ipython3",
   "version": "3.9.13"
  }
 },
 "nbformat": 4,
 "nbformat_minor": 5
}
