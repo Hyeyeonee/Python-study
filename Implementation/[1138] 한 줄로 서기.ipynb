{
 "cells": [
  {
   "cell_type": "markdown",
   "id": "de6793df",
   "metadata": {},
   "source": [
    "## [1138] 한 줄로 서기"
   ]
  },
  {
   "cell_type": "code",
   "execution_count": 1,
   "id": "efcfe327",
   "metadata": {},
   "outputs": [
    {
     "name": "stdout",
     "output_type": "stream",
     "text": [
      "4\n",
      "2 1 1 0\n",
      "4 2 1 3\n"
     ]
    }
   ],
   "source": [
    "num = int(input())\n",
    "line = list(map(int, input().split()))\n",
    "result = [0] * num\n",
    "\n",
    "for i in range(1, num+1):\n",
    "    cnt = 0\n",
    "    for j in range(num):\n",
    "        if result[j] == 0 and line[i-1] == cnt:\n",
    "            result[j] = i\n",
    "            break\n",
    "        elif result[j] == 0:\n",
    "            cnt += 1\n",
    "    \n",
    "print(' '.join(map(str, result)))"
   ]
  },
  {
   "cell_type": "markdown",
   "id": "d8d38e41",
   "metadata": {},
   "source": [
    "💡 작은 수부터 자리를 채우면 되는데 **어디에 자리를 채워야 하는 지**가 관건\n",
    "\n",
    "- 0으로 num만큼 채운 리스트 생성\n",
    "- 0의 개수와 나보다 키 큰 사람 수랑 같은지 → `line[i-1] == cnt`\n",
    "    - 같아졌으면 그 다음 비어있는 0에 들어가면 된다\n",
    "        - 0의 개수는 `cnt`로 세어주었음\n",
    "        - 그 자리가 비어있는 지에 대한 것은 `result[j] == 0`\n",
    "\n",
    "result는 int로 이루어져있기 때문에 공백을 두고 출력하려면 map을 사용해서 str로 변환해주어야 한다 !!"
   ]
  }
 ],
 "metadata": {
  "kernelspec": {
   "display_name": "Python 3 (ipykernel)",
   "language": "python",
   "name": "python3"
  },
  "language_info": {
   "codemirror_mode": {
    "name": "ipython",
    "version": 3
   },
   "file_extension": ".py",
   "mimetype": "text/x-python",
   "name": "python",
   "nbconvert_exporter": "python",
   "pygments_lexer": "ipython3",
   "version": "3.9.13"
  }
 },
 "nbformat": 4,
 "nbformat_minor": 5
}
