{
 "cells": [
  {
   "cell_type": "markdown",
   "id": "de6793df",
   "metadata": {},
   "source": [
    "## [1157] 단어 공부"
   ]
  },
  {
   "cell_type": "code",
   "execution_count": 1,
   "id": "efcfe327",
   "metadata": {},
   "outputs": [
    {
     "name": "stdout",
     "output_type": "stream",
     "text": [
      "zZa\n",
      "Z\n"
     ]
    }
   ],
   "source": [
    "from collections import Counter\n",
    "\n",
    "word = input().upper()\n",
    "cnt = Counter(word) # 가장 많이 나온 알파벳\n",
    "cnt = cnt.most_common()\n",
    "\n",
    "if len(cnt) > 1 and cnt[0][1] == cnt[1][1]:\n",
    "    print(\"?\")\n",
    "else:\n",
    "    print(cnt[0][0])"
   ]
  },
  {
   "cell_type": "markdown",
   "id": "d8d38e41",
   "metadata": {},
   "source": [
    "- Counter를 안 쓰고 풀 수 있는 방법…을 아직 모르겠다.\n",
    "\n",
    "1️⃣ output을 대문자로 출력해야 하니까 upper()를 사용해서 문자열을 받아줬음.\n",
    "\n",
    "2️⃣ 받은 문자열의 각 빈도수를 구하고 빈도수를 기준으로 정렬\n",
    "\n",
    "3️⃣ `첫 번째로 많이 나온 문자의 빈도수 == 두 번째로 많이 나온 문자의 빈도수` 라면 가장 많이 나온 문자가 여러 개인 경우 이므로 “?”를 출력해야 함. \n",
    "\n",
    "- 그렇다고 무작정 `cnt[0][1] == cnt[1][1]` 를 쓰면 안 되는데\n",
    "- 이유는 한 문자가 입력되었을 때는 cnt[1]은 존재하지 않기 때문\n",
    "- 그래서 `len(cnt) > 1` 조건을 추가해주었음"
   ]
  }
 ],
 "metadata": {
  "kernelspec": {
   "display_name": "Python 3 (ipykernel)",
   "language": "python",
   "name": "python3"
  },
  "language_info": {
   "codemirror_mode": {
    "name": "ipython",
    "version": 3
   },
   "file_extension": ".py",
   "mimetype": "text/x-python",
   "name": "python",
   "nbconvert_exporter": "python",
   "pygments_lexer": "ipython3",
   "version": "3.9.13"
  }
 },
 "nbformat": 4,
 "nbformat_minor": 5
}
