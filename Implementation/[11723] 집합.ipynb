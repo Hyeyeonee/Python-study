{
 "cells": [
  {
   "cell_type": "markdown",
   "id": "98be2698",
   "metadata": {},
   "source": [
    "## [11723] 집합"
   ]
  },
  {
   "cell_type": "code",
   "execution_count": 19,
   "id": "85247f13",
   "metadata": {},
   "outputs": [
    {
     "name": "stdout",
     "output_type": "stream",
     "text": [
      "26\n",
      "add 1\n",
      "add 2\n",
      "check 1\n",
      "1\n",
      "check 2\n",
      "1\n",
      "check 3\n",
      "0\n",
      "remove 2\n",
      "check 1\n",
      "1\n",
      "check 2\n",
      "0\n",
      "toggle 3\n",
      "check 1\n",
      "1\n",
      "check 2\n",
      "0\n",
      "check 3\n",
      "1\n",
      "check 4\n",
      "0\n",
      "all\n",
      "check 10\n",
      "1\n",
      "check 20\n",
      "1\n",
      "toggle 10\n",
      "remove 20\n",
      "check 10\n",
      "0\n",
      "check 20\n",
      "0\n",
      "empty\n",
      "check 1\n",
      "0\n",
      "toggle 1\n",
      "check 1\n",
      "1\n",
      "toggle 1\n",
      "check 1\n",
      "0\n"
     ]
    }
   ],
   "source": [
    "import sys\n",
    "input = sys.stdin.readline\n",
    "\n",
    "num = int(input())\n",
    "result = set()\n",
    "\n",
    "for _ in range(num):\n",
    "    cmd = input().split()\n",
    "    \n",
    "    if cmd[0] == 'add':\n",
    "        result.add(int(cmd[1]))\n",
    "    if cmd[0] == 'remove':\n",
    "        if int(cmd[1]) in result:\n",
    "            result.remove(int(cmd[1]))\n",
    "    if cmd[0] == 'check':\n",
    "        if int(cmd[1]) in result:\n",
    "            print(1)\n",
    "        else:\n",
    "            print(0)\n",
    "    if cmd[0] == 'toggle':\n",
    "        if int(cmd[1]) in result:\n",
    "            result.remove(int(cmd[1]))\n",
    "        else:\n",
    "            result.add(int(cmd[1]))\n",
    "    if cmd[0] == 'all':\n",
    "        result = set(range(1, 21))\n",
    "    if cmd[0] == 'empty':\n",
    "        result = set()"
   ]
  },
  {
   "cell_type": "markdown",
   "id": "fa3a441f",
   "metadata": {},
   "source": [
    "set함수를 사용하라고 문제에서 넌지시.. 알려준 느낌 ? <br>\n",
    "\n",
    "**💡 시간 초과 안 나는 방법** <br>\n",
    "`input = sys.stdin.readline` + 'all'이 입력되었을 때 for문을 쓰는 것이 아닌 `result = set(range(1, 21))`를 사용"
   ]
  }
 ],
 "metadata": {
  "kernelspec": {
   "display_name": "Python 3 (ipykernel)",
   "language": "python",
   "name": "python3"
  },
  "language_info": {
   "codemirror_mode": {
    "name": "ipython",
    "version": 3
   },
   "file_extension": ".py",
   "mimetype": "text/x-python",
   "name": "python",
   "nbconvert_exporter": "python",
   "pygments_lexer": "ipython3",
   "version": "3.9.13"
  }
 },
 "nbformat": 4,
 "nbformat_minor": 5
}
