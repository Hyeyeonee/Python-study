{
 "cells": [
  {
   "cell_type": "markdown",
   "id": "fda9463a",
   "metadata": {},
   "source": [
    "## [1244] 스위치 켜고 끄기"
   ]
  },
  {
   "cell_type": "code",
   "execution_count": 10,
   "id": "774c18db",
   "metadata": {},
   "outputs": [
    {
     "name": "stdout",
     "output_type": "stream",
     "text": [
      "8\n",
      "0 1 0 1 0 0 0 1\n",
      "2\n",
      "1 3\n",
      "2 3\n",
      "1 0 0 0 1 1 0 1 "
     ]
    }
   ],
   "source": [
    "num = int(input())\n",
    "switch = list(map(int, input().split()))\n",
    "st = int(input())\n",
    "student = [list(map(int, input().split())) for _ in range(st)]\n",
    "\n",
    "for i in range(st):\n",
    "    n = student[i][1] \n",
    "    if student[i][0] == 1: # 남학생\n",
    "        for j in range(1, num//n + 1):\n",
    "            switch[n * j - 1] = 1 - switch[n * j - 1] # 0이면 1로, 1이면 0으로\n",
    "    else: # 여학생\n",
    "        n -= 1 # index 맞추기\n",
    "        k = 1\n",
    "        while (n - k >= 0) and (n + k <= num-1) and (switch[n - k] == switch[n + k]):\n",
    "            switch[n - k] = 1 - switch[n - k]\n",
    "            switch[n + k] = 1 - switch[n + k]\n",
    "            k += 1\n",
    "        switch[n] = 1 - switch[n]\n",
    "            \n",
    "for i in range(num):\n",
    "    if i >= 20 and i % 20 == 0:\n",
    "        print()\n",
    "    print(switch[i], end = ' ')"
   ]
  },
  {
   "cell_type": "markdown",
   "id": "afacaab5",
   "metadata": {},
   "source": [
    "저번에 풀다가 틀렸다는데 이유를 잘 모르겠어서 냅뒀다가.. 다시 풀었다."
   ]
  },
  {
   "cell_type": "markdown",
   "id": "dc491629",
   "metadata": {},
   "source": [
    "**문제 풀이**\n",
    "- 남학생일 경우, 배수만 스위치를 바꿔주면 되므로 나름 간단하다.\n",
    "    - 스위치를 바꿀 때는 0이면 1로, 1이면 0으로 바꿔주면 되기 때문에 `switch[n * j - 1] = 1 - switch[n * j - 1]`로 코드를 짰다.\n",
    "\n",
    "\n",
    "- 여학생일 경우, 스위치를 바꿔야 하는 조건이 조금 더 까다로운데 3가지를 체크해야 한다.\n",
    "    - 받은 숫자는 1부터 시작하고 index는 0부터 시작하니까 index 기준으로 맞추기 위해 `n -= 1`을 해주었다. <br>\n",
    "    1️⃣ 제일 작은 인덱스가 0을 벗어나지 않는가 ➡️ `n - k >= 0` <br>\n",
    "    2️⃣ 제일 큰 인덱스가 리스트 값을 벗어나지 않는가 ➡️ `n + k <= num-1` <br>\n",
    "    3️⃣ 좌우가 대칭인가 ➡️ `switch[n - k] == switch[n + k]` <br>\n",
    "    - 모든 조건을 만족하면 스위치를 바꾸면 된다.\n",
    "    \n",
    "    \n",
    "- 자기 자신에 해당하는 스위치도 잊지 않고 바꾸자 !! `switch[n] = 1 - switch[n]`\n",
    "\n",
    "하나 더 놓치고 있던 것은.. 1번 스위치에서 시작하여 마지막 스위치까지 한 줄에 20개씩 출력!! 해야 한다는 것이다.\n",
    "\n",
    "문제를 꼼꼼히 읽자 ! ^_^"
   ]
  }
 ],
 "metadata": {
  "kernelspec": {
   "display_name": "Python 3 (ipykernel)",
   "language": "python",
   "name": "python3"
  },
  "language_info": {
   "codemirror_mode": {
    "name": "ipython",
    "version": 3
   },
   "file_extension": ".py",
   "mimetype": "text/x-python",
   "name": "python",
   "nbconvert_exporter": "python",
   "pygments_lexer": "ipython3",
   "version": "3.9.13"
  }
 },
 "nbformat": 4,
 "nbformat_minor": 5
}
