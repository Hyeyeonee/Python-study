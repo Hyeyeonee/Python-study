{
 "cells": [
  {
   "cell_type": "markdown",
   "id": "4c294fc7",
   "metadata": {},
   "source": [
    "## [1316] 그룹 단어 체커"
   ]
  },
  {
   "cell_type": "code",
   "execution_count": 38,
   "id": "84754117",
   "metadata": {},
   "outputs": [
    {
     "name": "stdout",
     "output_type": "stream",
     "text": [
      "3\n",
      "happy\n",
      "new\n",
      "year\n",
      "3\n"
     ]
    }
   ],
   "source": [
    "n = int(input())\n",
    "letter = [input() for _ in range(n)]\n",
    "cnt = 0\n",
    "\n",
    "for word in letter:\n",
    "    dup = []\n",
    "    for i in range(len(word)):\n",
    "        if word[i] not in dup:\n",
    "            dup.append(word[i])\n",
    "        else: # 이전에 있던 알파벳이 또 들어온 경우\n",
    "            if word[i-1] != word[i]:\n",
    "                cnt += 1\n",
    "                break\n",
    "print(n - cnt)"
   ]
  },
  {
   "cell_type": "markdown",
   "id": "ebb4f1c4",
   "metadata": {},
   "source": [
    "**문제 풀이**\n",
    "- dup은 단어에서 중복되지 않는 알파벳만을 포함하는 배열이다. (중복된 알파벳이 들어왔을 때 확인하기 위함)\n",
    "- 알파벳 하나씩 돌아가면서 dup에 없던 알파벳이라면 추가하고 넘어가고\n",
    "- 만약 이미 들어온 적 있는 알파벳이라면, 바로 이전 알파벳인지 확인하고 만약 그것도 아니라면 !! 그룹 단어가 아니라는 뜻이기 때문에 cnt + 1을 해주고 break해서 다음 단어로 넘어가준다. (cnt는 그룹 단어가 아닌 단어들의 수)\n",
    "- 마지막엔 입력한 단어 개수에서 그룹 단어가 아닌 단어들의 수를 해주면 그룹 단어의 개수가 나온다. ➡️ `n - cnt`"
   ]
  }
 ],
 "metadata": {
  "kernelspec": {
   "display_name": "Python 3 (ipykernel)",
   "language": "python",
   "name": "python3"
  },
  "language_info": {
   "codemirror_mode": {
    "name": "ipython",
    "version": 3
   },
   "file_extension": ".py",
   "mimetype": "text/x-python",
   "name": "python",
   "nbconvert_exporter": "python",
   "pygments_lexer": "ipython3",
   "version": "3.9.13"
  }
 },
 "nbformat": 4,
 "nbformat_minor": 5
}
