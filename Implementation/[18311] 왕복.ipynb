{
 "cells": [
  {
   "cell_type": "markdown",
   "id": "3fe6d1d4",
   "metadata": {},
   "source": [
    "## [18311] 왕복"
   ]
  },
  {
   "cell_type": "code",
   "execution_count": 17,
   "id": "13535c1d",
   "metadata": {},
   "outputs": [
    {
     "name": "stdout",
     "output_type": "stream",
     "text": [
      "5 28\n",
      "7 4 2 4 5\n",
      "4\n"
     ]
    }
   ],
   "source": [
    "n, dis = map(int, input().split())\n",
    "course = list(map(int, input().split()))\n",
    "for i in range(1, n+1):\n",
    "    course.append(course[n-i])\n",
    "\n",
    "total, cnt = 0, 0\n",
    "   \n",
    "while total + course[cnt] <= dis:\n",
    "    total += course[cnt]\n",
    "    cnt += 1\n",
    "\n",
    "if cnt > n:\n",
    "    print(2*n - cnt)\n",
    "else:\n",
    "    print(cnt+1)"
   ]
  },
  {
   "cell_type": "markdown",
   "id": "c1246bb5",
   "metadata": {},
   "source": [
    "**문제 풀이** <br>\n",
    "\n",
    "다른 사람들은 어떻게 풀었는지 모르겠지만, 난 왕복이라고 해서 다시 돌아갈 거리를 course에 append해줬다.\n",
    "- 지금까지 간 거리 `total` / 몇 번째 코스인지 저장하는 변수 `cnt`\n",
    "- 이동 거리(dis)를 넘지 않는 동안 계속해서 지금까진 간 거리에 다음 코스를 더해준다.\n",
    "- 문제에서 **두 코스 사이에 위치한 경우에는 ‘지나야 할’ 코스의 번호를 출력**한다고 해서 `cnt+1`을 출력해주었고\n",
    "- 만약, 마지막 코스를 찍고 돌아오고 있는 경우 (즉, `cnt > n`인 경우) `n - (cnt-n)`을 출력해주었다."
   ]
  }
 ],
 "metadata": {
  "kernelspec": {
   "display_name": "Python 3 (ipykernel)",
   "language": "python",
   "name": "python3"
  },
  "language_info": {
   "codemirror_mode": {
    "name": "ipython",
    "version": 3
   },
   "file_extension": ".py",
   "mimetype": "text/x-python",
   "name": "python",
   "nbconvert_exporter": "python",
   "pygments_lexer": "ipython3",
   "version": "3.9.13"
  }
 },
 "nbformat": 4,
 "nbformat_minor": 5
}
