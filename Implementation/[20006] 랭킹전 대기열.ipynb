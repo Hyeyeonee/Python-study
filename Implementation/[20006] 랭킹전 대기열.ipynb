{
 "cells": [
  {
   "cell_type": "markdown",
   "id": "fda9463a",
   "metadata": {},
   "source": [
    "## [20006] 랭킹전 대기열"
   ]
  },
  {
   "cell_type": "code",
   "execution_count": 52,
   "id": "d57d1dc4",
   "metadata": {},
   "outputs": [
    {
     "name": "stdout",
     "output_type": "stream",
     "text": [
      "10 5\n",
      "10 a\n",
      "15 b\n",
      "20 c\n",
      "25 d\n",
      "30 e\n",
      "17 f\n",
      "18 g\n",
      "26 h\n",
      "24 i\n",
      "28 j\n",
      "Started!\n",
      "10 a\n",
      "15 b\n",
      "20 c\n",
      "17 f\n",
      "18 g\n",
      "Started!\n",
      "25 d\n",
      "30 e\n",
      "26 h\n",
      "24 i\n",
      "28 j\n"
     ]
    }
   ],
   "source": [
    "p, m = map(int, input().split())\n",
    "cls = []\n",
    "\n",
    "for _ in range(p):\n",
    "    l, n = input().split()\n",
    "    \n",
    "    if not cls: # 첫 번째 유저 방에 바로 입장시키기\n",
    "        cls.append([[int(l), n]])\n",
    "        continue\n",
    "\n",
    "    enter = False\n",
    "    for rm in cls:\n",
    "        if (rm[0][0] - 10 <= int(l) <= rm[0][0] + 10) and len(rm) < m:\n",
    "            rm.append([int(l), n])\n",
    "            enter = True\n",
    "            break\n",
    "    if not enter:\n",
    "        cls.append([[int(l), n]])\n",
    "        \n",
    "for rm in cls:\n",
    "    rm.sort(key=lambda x:x[1])\n",
    "    if len(rm) == m:\n",
    "        print('Started!')\n",
    "    else:\n",
    "        print('Waiting!')\n",
    "    for i in range(len(rm)):\n",
    "        print(rm[i][0], rm[i][1])"
   ]
  },
  {
   "cell_type": "markdown",
   "id": "33acd4af",
   "metadata": {},
   "source": [
    "3번이나 런타임 에러가 났었는데 어디서 NameError가 났을까 했더니.. print를 pirnt라고 오타냈더라.. 가벼운 오타도 조심하자..ㅎ"
   ]
  },
  {
   "cell_type": "markdown",
   "id": "6d7e2915",
   "metadata": {},
   "source": [
    "생각보다 어려웠다..! 코드 수정을 여러 번 했는데 입력 받는 부분이랑 방에 입장 시키는 코드랑 for문이 겹쳐서 그랬다. <br>\n",
    "원래는 player도 리스트를 만들어줘서 입력을 다 받은 뒤에 방에 입장시키는 방식으로 하려고 했으나, 입장시키는 부분도 똑같이 for문을 쓰길래 합쳐줬다. <br>\n",
    "\n",
    "**문제 풀이**\n",
    "- 레벨과 닉네임을 입력받는데 ! 제일 처음에 들어온 플레이어는 어차피 방을 새로 생성해줘야 되기 때문에 바로 cls에 append해줬다.\n",
    "    - 이때 **이중리스트**를 사용해주는데 cls에 각 room이 리스트로 먼저 구분되어질 것이기 때문이다.\n",
    "    - 즉, cls[0]은 첫 번째 room, cls[1]은 두 번째 room으로 구분되어지고 각각의 room 안에 플레이어들이 입장할거다.\n",
    "    \n",
    "- `enter`는 입장했는지 안 했는지 여부를 알려주는 변수다.\n",
    "- cls에 입력된 room을 반복하면서 입장한 플레이어의 레벨의 +-10인지 확인하고, 그 방에 m명보다 적게 있는지 확인한다.\n",
    "    - 조건에 해당하면 입장해주고 (append해주고), enter도 True로 바꿔준다. \n",
    "    - 여기서 break 해줘야 하는 것도 잊지 말자..!\n",
    "- 입장하지 못했다면 (여전히 `enter = False`라면) 새로운 rm을 생성해서 입장해야 하기 때문에 cls에 append 해준다.\n",
    "    - 마찬가지로 새로운 rm이므로 이중리스트 !!\n",
    "- 이제 플레이어 이름대로 정렬해주고 방 인원이 m과 같으면 starting으로, 아니라면 waiting을 출력해주고 플레이어들을 출력해주면 된다."
   ]
  }
 ],
 "metadata": {
  "kernelspec": {
   "display_name": "Python 3 (ipykernel)",
   "language": "python",
   "name": "python3"
  },
  "language_info": {
   "codemirror_mode": {
    "name": "ipython",
    "version": 3
   },
   "file_extension": ".py",
   "mimetype": "text/x-python",
   "name": "python",
   "nbconvert_exporter": "python",
   "pygments_lexer": "ipython3",
   "version": "3.9.13"
  }
 },
 "nbformat": 4,
 "nbformat_minor": 5
}
