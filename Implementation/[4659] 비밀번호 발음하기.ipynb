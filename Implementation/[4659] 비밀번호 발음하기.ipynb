{
 "cells": [
  {
   "cell_type": "markdown",
   "id": "6b170c68-917b-4bff-b4c2-90a19e92051a",
   "metadata": {},
   "source": [
    "## 4659 : 비밀번호 발음하기"
   ]
  },
  {
   "cell_type": "code",
   "execution_count": 23,
   "id": "3b615023-f273-4c37-b325-ea80527e97eb",
   "metadata": {},
   "outputs": [
    {
     "name": "stdin",
     "output_type": "stream",
     "text": [
      " a\n",
      " tv\n",
      " ptoui\n",
      " bontres\n",
      " zoggax\n",
      " wiinq\n",
      " eep\n",
      " houctuh\n",
      " end\n"
     ]
    },
    {
     "name": "stdout",
     "output_type": "stream",
     "text": [
      "<a> is acceptable.\n",
      "<tv> is not acceptable.\n",
      "<ptoui> is not acceptable.\n",
      "<bontres> is not acceptable.\n",
      "<zoggax> is not acceptable.\n",
      "<wiinq> is not acceptable.\n",
      "<eep> is acceptable.\n",
      "<houctuh> is acceptable.\n"
     ]
    }
   ],
   "source": [
    "password = []\n",
    "\n",
    "word = input()\n",
    "while word != 'end':\n",
    "    password.append(word)\n",
    "    word = input()\n",
    "\n",
    "acc = ['a', 'e', 'i', 'o', 'u'] # 모음\n",
    "\n",
    "for test in password:\n",
    "    flag = 1 # accept 여부\n",
    "    \n",
    "    if all(char not in acc for char in test): # 조건 1\n",
    "        flag = 0\n",
    "    else:\n",
    "        for i in range(1, len(test)-1):\n",
    "            if (test[i] == test[i-1] or test[i] == test[i+1]) and not ((test[i] == 'e' or test[i] == 'o')):\n",
    "                flag = 0\n",
    "                break\n",
    "            if ((test[i-1] in acc) and (test[i] in acc) and (test[i+1] in acc)):\n",
    "                flag = 0\n",
    "                break\n",
    "            if ((test[i-1] not in acc) and (test[i] not in acc) and (test[i+1] not in acc)):\n",
    "                flag = 0\n",
    "                break\n",
    "\n",
    "    if flag == 1:\n",
    "        print(\"<\",test,\">\",\" is acceptable.\", sep=\"\")\n",
    "    else:\n",
    "        print(\"<\",test,\">\",\" is not acceptable.\", sep=\"\")"
   ]
  },
  {
   "cell_type": "markdown",
   "id": "b5d63d36-63d3-4b8c-8166-9cc31605b23a",
   "metadata": {},
   "source": [
    "**💡3가지 조건을 차근차근 차례로 처리해주면 끝 !**\n",
    "\n",
    "flag로 accept 여부를 저장해줬다.\n",
    "\n",
    "문자열에는 자음, 모음을 따로 판별해주는 함수는 없는 것 같다. 직접 정의해주자.\n",
    "\n",
    "조건1 : 모음이 하나라도 있어야 함.\n",
    "\n",
    "모든 문자열을 돌면서 모음에 해당하는게 하나도 없는가를 확인한다.\n",
    "\n",
    "모음에 해당하지 않는다 ➡️ **not in**\n",
    "\n",
    "모든 몬자가 모음에 해당하지 않는다 ➡️ **all**\n",
    "\n",
    "\n",
    "📍 틀린 이유 : `test[i] == test[i-1]` 뿐만 아니라 `test[i] == test[i+1]도 해줘야 한다. 왜 필요한지 잘 모르겠지만.. 이거 때문에 계속 틀렸다고 나왔다."
   ]
  }
 ],
 "metadata": {
  "kernelspec": {
   "display_name": "Python 3 (ipykernel)",
   "language": "python",
   "name": "python3"
  },
  "language_info": {
   "codemirror_mode": {
    "name": "ipython",
    "version": 3
   },
   "file_extension": ".py",
   "mimetype": "text/x-python",
   "name": "python",
   "nbconvert_exporter": "python",
   "pygments_lexer": "ipython3",
   "version": "3.12.7"
  }
 },
 "nbformat": 4,
 "nbformat_minor": 5
}
