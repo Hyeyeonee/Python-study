{
 "cells": [
  {
   "cell_type": "markdown",
   "id": "cd7d7afa",
   "metadata": {},
   "source": [
    "## [5766] 할아버지는 유명해!"
   ]
  },
  {
   "cell_type": "code",
   "execution_count": 30,
   "id": "40f39034",
   "metadata": {},
   "outputs": [
    {
     "name": "stdout",
     "output_type": "stream",
     "text": [
      "4 5\n",
      "20 33 25 32 99\n",
      "32 86 99 25 10\n",
      "20 99 10 33 86\n",
      "19 33 74 99 32\n",
      "32 33 \n",
      "3 6\n",
      "2 34 67 36 79 93\n",
      "100 38 21 76 91 85\n",
      "32 23 85 31 88 1\n",
      "1 2 21 23 31 32 34 36 38 67 76 79 88 91 93 100 \n",
      "0 0\n"
     ]
    }
   ],
   "source": [
    "while True:\n",
    "    n, m = map(int, input().split())\n",
    "    if n == 0 and m == 0: # N과 M이 모두 0으로 주어지는 행이 인풋의 마지막\n",
    "        break\n",
    "    player = [0] * 10001 # 선수 번호는 index로, 이긴 횟수는 배열의 요소로 입력할 예정\n",
    "    for _ in range(n):\n",
    "        rank = list(map(int, input().split()))\n",
    "        for i in rank:\n",
    "            player[i] += 1\n",
    "    ranking = sorted(list(set(player)), reverse=True) # 이긴 횟수를 내림차순으로 정렬\n",
    "    nd = ranking[1] # 2등의 이긴 횟수\n",
    "    for i in range(10001):\n",
    "        if player[i] == nd:\n",
    "            print(i, end=' ')\n",
    "    print()"
   ]
  },
  {
   "cell_type": "markdown",
   "id": "b7f85e81",
   "metadata": {},
   "source": [
    "약간 이렇게 푸는 게 맞나 싶었지만, 나름 깔끔하게 푼 것 같기도 하고~.. <br>\n",
    "\n",
    "**문제 풀이**<br>\n",
    "\n",
    "내가 생각하는 이 문제의 핵심은 `player = [0] * 10001` 이거다! 선수 번호는 index로, 이긴 횟수는 배열의 요소로 입력할 배열을 만드는 것이다.<br>\n",
    "문제에서 **각 선수는 1~10000까지의 정수(선수 번호)로 식별**이라고 했기 때문에 `*10001`을 해줬다.\n",
    "\n",
    "- n, m을 입력 받고 0, 0이 입력될 경우 while문에서 break\n",
    "- 선수 번호는 index로, 이긴 횟수는 배열의 요소로 만들 player 배열 생성\n",
    "- 각 주차의 랭킹 정보가 주어질 때마다 선수의 번호에 해당하는 player index에 + 1\n",
    "- 선수들의 이긴 횟수를 구하기 위해 `ranking`이라는 배열을 만든 후, `nd`에 2등의 이긴 횟수 할당\n",
    "- player의 전체 배열을 돌면서 2등의 이긴 횟수와 같으면 출력"
   ]
  }
 ],
 "metadata": {
  "kernelspec": {
   "display_name": "Python 3 (ipykernel)",
   "language": "python",
   "name": "python3"
  },
  "language_info": {
   "codemirror_mode": {
    "name": "ipython",
    "version": 3
   },
   "file_extension": ".py",
   "mimetype": "text/x-python",
   "name": "python",
   "nbconvert_exporter": "python",
   "pygments_lexer": "ipython3",
   "version": "3.9.13"
  }
 },
 "nbformat": 4,
 "nbformat_minor": 5
}
