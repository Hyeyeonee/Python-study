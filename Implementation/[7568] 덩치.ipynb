{
 "cells": [
  {
   "cell_type": "markdown",
   "id": "6b170c68-917b-4bff-b4c2-90a19e92051a",
   "metadata": {},
   "source": [
    "## 7568 : 덩치"
   ]
  },
  {
   "cell_type": "code",
   "execution_count": 19,
   "id": "3b615023-f273-4c37-b325-ea80527e97eb",
   "metadata": {},
   "outputs": [
    {
     "name": "stdin",
     "output_type": "stream",
     "text": [
      " 5\n",
      " 55 185\n",
      " 58 183\n",
      " 88 186\n",
      " 60 175\n",
      " 46 155\n"
     ]
    },
    {
     "name": "stdout",
     "output_type": "stream",
     "text": [
      "2 2 1 2 5 "
     ]
    }
   ],
   "source": [
    "n = int(input())\n",
    "total = []\n",
    "\n",
    "for i in range(n):\n",
    "    tall, weight = map(int, input().split())\n",
    "    total.append([tall, weight, 1, i]) # 키, 몸무게, 덩치 순서, 입력 순서\n",
    "\n",
    "total.sort(key = lambda x:(-x[0], -x[1]))\n",
    "\n",
    "for i in range(1, n):\n",
    "    for j in range(i):\n",
    "        if (total[i][0] < total[j][0]) and (total[i][1] < total[j][1]):\n",
    "            total[i][2] += 1\n",
    "\n",
    "total.sort(key = lambda x:(x[3]))\n",
    "\n",
    "for i in range(n):\n",
    "    print(total[i][2], end = \" \")"
   ]
  },
  {
   "cell_type": "markdown",
   "id": "b5d63d36-63d3-4b8c-8166-9cc31605b23a",
   "metadata": {},
   "source": [
    "**💡나보다 덩치가 큰 사람을 count하는 게 문제 핵심**\n",
    "\n",
    "입력 순서에 맞춰서 마지막에 출력해줘야 하므로 [키, 몸무게, 덩치 순서, 입력 순서] 순으로 저장했다.\n",
    "\n",
    "이후, 키와 몸무게가 큰 순서 (내림차순)으로 정렬을 하고\n",
    "\n",
    "내 앞\n",
    "\n",
    "**sorted에서 key와 lambda를 이용해 여러 조건을 사용해서 정렬할 수 있다.**\n",
    "\n",
    "📍 계속 틀린 이유 : -x[1]에 -를 안 붙였다.. 내림차순이면 -를 붙이자 + 문제를 잘 읽자.."
   ]
  }
 ],
 "metadata": {
  "kernelspec": {
   "display_name": "Python 3 (ipykernel)",
   "language": "python",
   "name": "python3"
  },
  "language_info": {
   "codemirror_mode": {
    "name": "ipython",
    "version": 3
   },
   "file_extension": ".py",
   "mimetype": "text/x-python",
   "name": "python",
   "nbconvert_exporter": "python",
   "pygments_lexer": "ipython3",
   "version": "3.12.7"
  }
 },
 "nbformat": 4,
 "nbformat_minor": 5
}
