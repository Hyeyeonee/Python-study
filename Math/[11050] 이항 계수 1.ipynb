{
 "cells": [
  {
   "cell_type": "markdown",
   "id": "f0eee21c",
   "metadata": {},
   "source": [
    "## [11050] 이항 계수 1"
   ]
  },
  {
   "cell_type": "code",
   "execution_count": 5,
   "id": "e91d8402",
   "metadata": {},
   "outputs": [
    {
     "name": "stdout",
     "output_type": "stream",
     "text": [
      "5 2\n",
      "10\n"
     ]
    }
   ],
   "source": [
    "n, k = map(int, input().split())\n",
    "total = 1\n",
    "remain = 1\n",
    "\n",
    "for i in range(k):\n",
    "    total *= (n-i)\n",
    "    remain *= (i+1)\n",
    "    \n",
    "print(total//remain)"
   ]
  },
  {
   "cell_type": "markdown",
   "id": "d9a36e37",
   "metadata": {},
   "source": [
    "일반적으로 수학에서 계산하는 이항 계수의 방식을 코드로 구현했습니다. <br>\n",
    "`total`은 분자, `remain`은 분모에 들어갈 값으로 <br>\n",
    "예를 들어, 5 2가 입력된다면 total에는 `5*4`가 remain에는 `1*2`가 들어갑니다."
   ]
  }
 ],
 "metadata": {
  "kernelspec": {
   "display_name": "Python 3 (ipykernel)",
   "language": "python",
   "name": "python3"
  },
  "language_info": {
   "codemirror_mode": {
    "name": "ipython",
    "version": 3
   },
   "file_extension": ".py",
   "mimetype": "text/x-python",
   "name": "python",
   "nbconvert_exporter": "python",
   "pygments_lexer": "ipython3",
   "version": "3.9.13"
  }
 },
 "nbformat": 4,
 "nbformat_minor": 5
}
