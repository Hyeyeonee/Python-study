{
 "cells": [
  {
   "cell_type": "markdown",
   "id": "26c853b6",
   "metadata": {},
   "source": [
    "## [11659] 구간 합 구하기 4"
   ]
  },
  {
   "cell_type": "code",
   "execution_count": 7,
   "id": "0d7e9b28",
   "metadata": {},
   "outputs": [
    {
     "name": "stdout",
     "output_type": "stream",
     "text": [
      "5 3\n",
      "5 4 3 2 1\n",
      "1 3\n",
      "12\n",
      "2 4\n",
      "9\n",
      "5 5\n",
      "1\n"
     ]
    }
   ],
   "source": [
    "import sys\n",
    "input = sys.stdin.readline\n",
    "\n",
    "n, m = map(int, input().split())\n",
    "num = list(map(int, input().split()))\n",
    "n_sum = [0]\n",
    "total = 0\n",
    "for i in range(n):\n",
    "    total += num[i]\n",
    "    n_sum.append(total)\n",
    "\n",
    "for _ in range(m):\n",
    "    i, j = map(int, input().split())\n",
    "    print(n_sum[j] - n_sum[i-1])"
   ]
  },
  {
   "cell_type": "markdown",
   "id": "0d91d115",
   "metadata": {},
   "source": [
    "일단 `sum()`을 쓰면 시간 초과가 난다. <br>\n",
    "이 문제의 포인트는 미리 누적 합을 구한 리스트를 만드는 것이다. <br>\n",
    "그리고 i, j를 입력받고 n_sum이라는 리스트에서 차이를 계산해서 출력하면 된다."
   ]
  },
  {
   "cell_type": "code",
   "execution_count": 13,
   "id": "bcffee20",
   "metadata": {},
   "outputs": [
    {
     "name": "stdout",
     "output_type": "stream",
     "text": [
      "5 3\n",
      "5 4 3 2 1\n",
      "1 3\n",
      "12\n",
      "2 4\n",
      "9\n",
      "5 5\n",
      "1\n"
     ]
    }
   ],
   "source": [
    "n, m = map(int, input().split())\n",
    "num = list(map(int, input().split()))\n",
    "for _ in range(m):\n",
    "    i, j = map(int, input().split())\n",
    "    total = 0\n",
    "    num2 = num[i-1:]\n",
    "    for k in range(j-i+1):\n",
    "        total += num2[k]\n",
    "    print(total)"
   ]
  },
  {
   "cell_type": "markdown",
   "id": "6760f0b3",
   "metadata": {},
   "source": [
    "`sum()`함수만 안 쓰면 시간 초과가 안 나는 줄 알고 다른 방식으로 시도해봤는데 이것도 시간 초과가 떴다."
   ]
  }
 ],
 "metadata": {
  "kernelspec": {
   "display_name": "Python 3 (ipykernel)",
   "language": "python",
   "name": "python3"
  },
  "language_info": {
   "codemirror_mode": {
    "name": "ipython",
    "version": 3
   },
   "file_extension": ".py",
   "mimetype": "text/x-python",
   "name": "python",
   "nbconvert_exporter": "python",
   "pygments_lexer": "ipython3",
   "version": "3.9.13"
  }
 },
 "nbformat": 4,
 "nbformat_minor": 5
}
