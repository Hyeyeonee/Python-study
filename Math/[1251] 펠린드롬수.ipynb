{
 "cells": [
  {
   "cell_type": "markdown",
   "id": "98be2698",
   "metadata": {},
   "source": [
    "## [1251] 펠린드롬수"
   ]
  },
  {
   "cell_type": "code",
   "execution_count": 5,
   "id": "c762fc8b",
   "metadata": {},
   "outputs": [
    {
     "name": "stdout",
     "output_type": "stream",
     "text": [
      "121\n",
      "1231\n",
      "12421\n",
      "0\n",
      "yes\n",
      "no\n",
      "yes\n"
     ]
    }
   ],
   "source": [
    "num = []\n",
    "\n",
    "while True:\n",
    "    n = input()\n",
    "    if n == '0':\n",
    "        break\n",
    "    else:\n",
    "        num.append(n)\n",
    "\n",
    "for i in num:\n",
    "    cnt = 0\n",
    "    for j in range(len(i)):\n",
    "        if i[j] == i[len(i)-1-j]:\n",
    "            cnt = 1\n",
    "        else:\n",
    "            cnt = 0\n",
    "            break\n",
    "    if cnt == 0:\n",
    "        print('no')\n",
    "    else:\n",
    "        print('yes')"
   ]
  },
  {
   "cell_type": "markdown",
   "id": "6b509ae3",
   "metadata": {},
   "source": [
    "- 문자열이 대칭이면 ‘yes’ 아니라면 ‘no’를 출력하면 되는 간단한 문제다\n",
    "    - 문제에서는 문자열이라기 보다는 수로 표현되는데 어쨌든 비교하려면 문자열 처리를 해줘야 한다.\n",
    "\n",
    "- 입력을 받는 방식이 특이한데, 0이 입력이 끝났다는 표시다.\n",
    "    - 그래서 0이 들어올 때까지 num이라는 list에 append해주었다.\n",
    "- 대칭으로 문자열이 동일한지 확인해주면 된다.\n",
    "    - `i[j] == i[len(i)-1-j]`\n",
    "    - 앞에서부터 `j` / 뒤에서부터 `len(i)-1-j`\n",
    "    - 같으면 cnt를 1로 바꿔주었고 같지 않다면 0으로 바꿔준 뒤 break를 시켜 즉시 ‘no’를 출력해줬다.\n",
    "        - 하나라도 안 같으면 어차피 펠린드롬수가 아니기 때문\n",
    "    - 그대로 cnt가 1이라면 모두 같다는 이야기가 되니까 else문에 ‘yes’를 출력해주었다."
   ]
  }
 ],
 "metadata": {
  "kernelspec": {
   "display_name": "Python 3 (ipykernel)",
   "language": "python",
   "name": "python3"
  },
  "language_info": {
   "codemirror_mode": {
    "name": "ipython",
    "version": 3
   },
   "file_extension": ".py",
   "mimetype": "text/x-python",
   "name": "python",
   "nbconvert_exporter": "python",
   "pygments_lexer": "ipython3",
   "version": "3.9.13"
  }
 },
 "nbformat": 4,
 "nbformat_minor": 5
}
