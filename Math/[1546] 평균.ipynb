{
 "cells": [
  {
   "cell_type": "markdown",
   "id": "98be2698",
   "metadata": {},
   "source": [
    "## [1546] 평균"
   ]
  },
  {
   "cell_type": "code",
   "execution_count": 4,
   "id": "ff3cecc3",
   "metadata": {},
   "outputs": [
    {
     "name": "stdout",
     "output_type": "stream",
     "text": [
      "9\n",
      "10 20 30 40 50 60 70 80 90\n",
      "55.55555555555556\n"
     ]
    }
   ],
   "source": [
    "num = int(input())\n",
    "score = list(map(int, input().split()))\n",
    "\n",
    "m = max(score)\n",
    "total = 0\n",
    "for i in range(num):\n",
    "    score[i] = score[i] / m * 100\n",
    "    total += score[i]\n",
    "\n",
    "print(total/num)"
   ]
  },
  {
   "cell_type": "markdown",
   "id": "fd4444d0",
   "metadata": {},
   "source": [
    "- 사실 문제에서 제시한 대로 식만 세우면 되는 문제라 어려운 건 없었다\n",
    "    - 일단 세준이는 자기 점수 중에 최댓값을 골랐다. 이 값을 `M`이라고 한다. 그리고 나서 모든 점수를 점수`/M*100`으로 고쳤다.\n",
    "    - 예를 들어, 세준이의 최고점이 70이고, 수학 점수가 50이었으면 수학 점수는 `50/70*100`이 되어 `71.43점`\n",
    "\n",
    "- 받은 SCORE 중 최댓값 M 구하기 → max(score)\n",
    "- 문제에서 말한 식 그대로 → `score[i] / m * 100`\n",
    "- 그 점수들을 `total`이라는 변수에 누적해주고 마지막에 과목 수로 나누어 평균을 구해주었다."
   ]
  }
 ],
 "metadata": {
  "kernelspec": {
   "display_name": "Python 3 (ipykernel)",
   "language": "python",
   "name": "python3"
  },
  "language_info": {
   "codemirror_mode": {
    "name": "ipython",
    "version": 3
   },
   "file_extension": ".py",
   "mimetype": "text/x-python",
   "name": "python",
   "nbconvert_exporter": "python",
   "pygments_lexer": "ipython3",
   "version": "3.9.13"
  }
 },
 "nbformat": 4,
 "nbformat_minor": 5
}
