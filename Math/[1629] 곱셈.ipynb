{
 "cells": [
  {
   "cell_type": "markdown",
   "id": "f0eee21c",
   "metadata": {},
   "source": [
    "## [1629] 곱셈"
   ]
  },
  {
   "cell_type": "code",
   "execution_count": 5,
   "id": "c0d83d72",
   "metadata": {},
   "outputs": [
    {
     "name": "stdout",
     "output_type": "stream",
     "text": [
      "10 11 12\n",
      "4\n"
     ]
    }
   ],
   "source": [
    "import sys\n",
    "input = sys.stdin.readline\n",
    "\n",
    "a, b, c = map(int, input().split())\n",
    "\n",
    "def mul(a, y):\n",
    "    if y == 1:\n",
    "        return a % c\n",
    "    else:\n",
    "        tmp = mul(a, y//2)\n",
    "        \n",
    "        if y % 2 == 0:\n",
    "            return (tmp * tmp) % c # 짝수 \n",
    "        else:\n",
    "            return (tmp * tmp * a) % c # 홀수\n",
    "\n",
    "print(mul(a, b))"
   ]
  },
  {
   "cell_type": "markdown",
   "id": "1091bae0",
   "metadata": {},
   "source": [
    "어렵다 !!! 시간 초과가 안 나게 하고 재귀 문제가 생기지 않도록 어떻게 풀 수 있을까 계속 고민했는데 잘 안 떠올랐다..! ㅠㅠ <br>\n",
    "\n",
    "**문제 풀이** <br>\n",
    "만약 10, 11, 12가 a, b, c에 들어가게 된다면, `10**11 % 12`가 계산되어야 한다. <br>\n",
    "이걸 문제에서는 나눠서 `[(10**5) * (10**5) * 10] % 12`로 계산하는 방식이다. <br>\n",
    "그래서 몇 번 나누는지에 대한 변수 b가 짝수라면, `*a`를 따로 해주지 않고, 홀수면 한 번 더 곱해준다."
   ]
  }
 ],
 "metadata": {
  "kernelspec": {
   "display_name": "Python 3 (ipykernel)",
   "language": "python",
   "name": "python3"
  },
  "language_info": {
   "codemirror_mode": {
    "name": "ipython",
    "version": 3
   },
   "file_extension": ".py",
   "mimetype": "text/x-python",
   "name": "python",
   "nbconvert_exporter": "python",
   "pygments_lexer": "ipython3",
   "version": "3.9.13"
  }
 },
 "nbformat": 4,
 "nbformat_minor": 5
}
