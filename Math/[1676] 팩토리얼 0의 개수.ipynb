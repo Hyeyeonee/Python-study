{
 "cells": [
  {
   "cell_type": "markdown",
   "id": "98be2698",
   "metadata": {},
   "source": [
    "## [1676] 팩토리얼 0의 개수"
   ]
  },
  {
   "cell_type": "code",
   "execution_count": 7,
   "id": "1229e20f",
   "metadata": {},
   "outputs": [
    {
     "name": "stdout",
     "output_type": "stream",
     "text": [
      "10\n",
      "2\n"
     ]
    }
   ],
   "source": [
    "def factorial(n):\n",
    "    return n * factorial(n-1) if n > 1 else 1\n",
    "\n",
    "cnt = 0\n",
    "num = int(input())\n",
    "num_f = str(factorial(num))\n",
    "\n",
    "\n",
    "for i in range(len(num_f)):\n",
    "    if num_f[len(num_f)-1-i] != '0':\n",
    "        print(cnt)\n",
    "        break\n",
    "    else:\n",
    "        cnt += 1"
   ]
  },
  {
   "cell_type": "markdown",
   "id": "b14a4ccd",
   "metadata": {},
   "source": [
    "- 먼저 팩토리얼을 구할 수 있냐가 중요할 것 같다.\n",
    "    - 팩토리얼 계산을 구현하는 방법은 여러 가지가 있으니 아무거나.. 외워두거나 쓸 수 있으면 될 것 같다.\n",
    "    - 나는 `**재귀함수**`를 활용한 팩토리얼 계산 방식을 사용했다.\n",
    "- 0이 아닌 수가 나올 때까지 다른 수는 몇 개가 존재할까를 구하는 문제다.\n",
    "    - 문자열로 변환해서 ‘0’이라면 `cnt += 1` 을 해주고 ‘0’이 나온다면 즉시 cnt를 출력\n",
    "    - 여기서 한 번 틀렸었는데, 출력해주었으면 `break`를 해주는 것을 잊지 말자.. ㅎ"
   ]
  }
 ],
 "metadata": {
  "kernelspec": {
   "display_name": "Python 3 (ipykernel)",
   "language": "python",
   "name": "python3"
  },
  "language_info": {
   "codemirror_mode": {
    "name": "ipython",
    "version": 3
   },
   "file_extension": ".py",
   "mimetype": "text/x-python",
   "name": "python",
   "nbconvert_exporter": "python",
   "pygments_lexer": "ipython3",
   "version": "3.9.13"
  }
 },
 "nbformat": 4,
 "nbformat_minor": 5
}
