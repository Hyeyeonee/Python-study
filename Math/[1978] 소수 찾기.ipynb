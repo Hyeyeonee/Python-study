{
 "cells": [
  {
   "cell_type": "markdown",
   "id": "98be2698",
   "metadata": {},
   "source": [
    "## [1978] 소수 찾기"
   ]
  },
  {
   "cell_type": "code",
   "execution_count": 9,
   "id": "7e0c203d",
   "metadata": {},
   "outputs": [
    {
     "name": "stdout",
     "output_type": "stream",
     "text": [
      "5\n",
      "11 7 14 18 5\n",
      "3\n"
     ]
    }
   ],
   "source": [
    "num = int(input())\n",
    "prime = list(map(int, input().split()))\n",
    "cnt = 0\n",
    "\n",
    "for i in range(num):\n",
    "    is_prime = True\n",
    "    \n",
    "    if prime[i] < 2:\n",
    "        is_prime = False     \n",
    "    if prime[i] == 2:\n",
    "        is_prime = True\n",
    "    elif prime[i] % 2 == 0:\n",
    "        is_prime = False\n",
    "    else:\n",
    "        for k in range(3, prime[i]):\n",
    "            if prime[i] % k == 0:\n",
    "                is_prime = False\n",
    "                break\n",
    "                \n",
    "    if is_prime:\n",
    "        cnt += 1\n",
    "        \n",
    "print(cnt)"
   ]
  },
  {
   "cell_type": "markdown",
   "id": "be3dd548",
   "metadata": {},
   "source": [
    "소수를 찾는 조건을 여러 개로 나눠서 계산을 빨리 할 수 있도록 하려고 노력했다 ㅎ <br>\n",
    "\n",
    "- 2보다 작으면 False\n",
    "- 2로 나누어지면 (즉, 짝수) 소수가 아니므로 바로 False\n",
    "- 3부터 시작해서 나눠봤을 때 0으로 나뉜다면 바로 False하고 break\n",
    "    - 이 반복문에서 for문을 prime[i]까지가 아니라 sqrt(prime[i])를 해주면 더 빨리 계산이 진행될 것 !!\n",
    "- 2도 소수라는 것을 잊지 말자..!! 2라면 바로 True를 해주었다.\n",
    "\n",
    "이 반복문을 모두 돌고도 is_prime이 True라면 소수인 것이다 "
   ]
  }
 ],
 "metadata": {
  "kernelspec": {
   "display_name": "Python 3 (ipykernel)",
   "language": "python",
   "name": "python3"
  },
  "language_info": {
   "codemirror_mode": {
    "name": "ipython",
    "version": 3
   },
   "file_extension": ".py",
   "mimetype": "text/x-python",
   "name": "python",
   "nbconvert_exporter": "python",
   "pygments_lexer": "ipython3",
   "version": "3.9.13"
  }
 },
 "nbformat": 4,
 "nbformat_minor": 5
}
