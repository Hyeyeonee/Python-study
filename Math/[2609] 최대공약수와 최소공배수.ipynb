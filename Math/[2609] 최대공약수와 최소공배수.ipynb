{
 "cells": [
  {
   "cell_type": "markdown",
   "id": "8c4e6b77",
   "metadata": {},
   "source": [
    "## [2609] 최대공약수와 최소공배수"
   ]
  },
  {
   "cell_type": "code",
   "execution_count": 1,
   "id": "88c70544",
   "metadata": {},
   "outputs": [
    {
     "name": "stdout",
     "output_type": "stream",
     "text": [
      "24 18\n",
      "6\n",
      "72\n"
     ]
    }
   ],
   "source": [
    "a, b = map(int, input().split())\n",
    "a_list = []\n",
    "b_list = []\n",
    "\n",
    "for i in range(1, a+1):\n",
    "    if a % i == 0:\n",
    "        a_list.append(i)\n",
    "for j in range(1, b+1):\n",
    "    if b % j == 0:\n",
    "        b_list.append(j)\n",
    "        \n",
    "for i in range(len(a_list)):\n",
    "    for j in range(len(b_list)):\n",
    "        if a_list[i] == b_list[j]:\n",
    "            result = a_list[i]\n",
    "            break\n",
    "\n",
    "## 최대공약수\n",
    "print(result)\n",
    "                   \n",
    "## 최소공배수 (두 수의 곱 / 최대공약수)\n",
    "print(int(a*b/result))"
   ]
  },
  {
   "cell_type": "markdown",
   "id": "829da38f",
   "metadata": {},
   "source": [
    "인터넷에 쳐보면 최대공약수와 최소공배수를 구하기 위한 알고리즘이 GCD라고 있다..! <br>\n",
    "그런데, 사실 이 문제를 처음 마주치고 당장 풀어야 한다면 그 알고리즘을 당연히 생각 못할 것이라고 생각했기 때문에\n",
    "복잡도를 생각하지 않더라도.. 내가 풀 수 있는 방법으로 풀어봐야겠다 라고 생각했다."
   ]
  },
  {
   "cell_type": "markdown",
   "id": "94a39181",
   "metadata": {},
   "source": [
    "그래서 내가 생각한 방법은 **두 수에 대한 약수를 모두 리스트로 뽑고 거기서 최대공약수를 찾자!** 였다. <br>\n",
    "최소공배수는 `두 수의 곱 / 최대공약수`로 구하기 때문에 사실상 **최대공약수**만 구하면 되는 문제다\n",
    "\n",
    "<br>\n",
    "최대공약수는 이중for문으로 구해줬다.. 우리가 수학을 배울 때.. 처음 배우는 방식으로 구현한 것이다. <br>\n",
    "그래서 result에 최대공약수를 넣어줬고 최소공배수를 구할 때도 사용해주었다.\n",
    "\n",
    "<br><br>\n",
    "놀랍게 이미 math 라이브러리를 import하면 아무것도 해주지 않고도 바로 답이 나온다.. 충격적이지만.. 몰랐으면 못 쓰는거니까 .."
   ]
  },
  {
   "cell_type": "code",
   "execution_count": 2,
   "id": "d6c9ed9d",
   "metadata": {},
   "outputs": [
    {
     "name": "stdout",
     "output_type": "stream",
     "text": [
      "24 18\n",
      "6\n",
      "72\n"
     ]
    }
   ],
   "source": [
    "import math\n",
    "\n",
    "a, b = map(int, input().split())\n",
    "\n",
    "print(math.gcd(a, b))\n",
    "print(math.lcm(a, b))"
   ]
  }
 ],
 "metadata": {
  "kernelspec": {
   "display_name": "Python 3 (ipykernel)",
   "language": "python",
   "name": "python3"
  },
  "language_info": {
   "codemirror_mode": {
    "name": "ipython",
    "version": 3
   },
   "file_extension": ".py",
   "mimetype": "text/x-python",
   "name": "python",
   "nbconvert_exporter": "python",
   "pygments_lexer": "ipython3",
   "version": "3.9.13"
  }
 },
 "nbformat": 4,
 "nbformat_minor": 5
}
