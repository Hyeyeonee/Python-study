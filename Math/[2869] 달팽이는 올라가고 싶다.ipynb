{
 "cells": [
  {
   "cell_type": "markdown",
   "id": "98be2698",
   "metadata": {},
   "source": [
    "## [2869] 달팽이는 올라가고 싶다"
   ]
  },
  {
   "cell_type": "code",
   "execution_count": 6,
   "id": "c976b82c",
   "metadata": {},
   "outputs": [
    {
     "name": "stdout",
     "output_type": "stream",
     "text": [
      "100 99 1000000000\n",
      "999999901\n"
     ]
    }
   ],
   "source": [
    "a, b, v = map(int, input().split())\n",
    "day = 1\n",
    "climb = 0\n",
    "\n",
    "v -= a\n",
    "if v % (a-b) == 0:\n",
    "    day += v // (a-b)\n",
    "else:\n",
    "    day += v // (a-b) + 1\n",
    "\n",
    "print(day)"
   ]
  },
  {
   "cell_type": "markdown",
   "id": "f0d62c94",
   "metadata": {},
   "source": [
    "문제에서 제시한 올라가는 거리 `a`, 미끄러지는 거리 `b`, 최종 나무 높이 `v`\n",
    "\n",
    "며칠이 걸리는 지 → `day`\n",
    "\n",
    "마지막 날에 올라갈 때는 미끄러지지 않는 다고 했으니 그냥 마지막 날을 제외하고 계산해주었다.\n",
    "\n",
    "- day는 하루 올려주고(즉, 초기화 자체를 1로 하고 `day = 1`) 최종 나무 높이는 올라가는 거리만큼 빼주었다.  `v = v - a`\n",
    "- 그리고 하루에 올라가는 높이는 사실 미끄러지는 높이까지 계산하면 `a-b` 만큼이다.\n",
    "    - 이에 대해 며칠 걸리는 지는 나눠주면 된다.\n",
    "    - 딱 나누어 떨어진다면 그만큼 걸리겠지만, 나누어 떨어지지 않는 경우도 있을 수 있으니 그때는 하루 더 걸릴 것이다. 그래서 `else문에 +1`을 해주었다."
   ]
  }
 ],
 "metadata": {
  "kernelspec": {
   "display_name": "Python 3 (ipykernel)",
   "language": "python",
   "name": "python3"
  },
  "language_info": {
   "codemirror_mode": {
    "name": "ipython",
    "version": 3
   },
   "file_extension": ".py",
   "mimetype": "text/x-python",
   "name": "python",
   "nbconvert_exporter": "python",
   "pygments_lexer": "ipython3",
   "version": "3.9.13"
  }
 },
 "nbformat": 4,
 "nbformat_minor": 5
}
