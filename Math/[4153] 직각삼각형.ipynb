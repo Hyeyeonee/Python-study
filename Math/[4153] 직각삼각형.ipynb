{
 "cells": [
  {
   "cell_type": "markdown",
   "id": "98be2698",
   "metadata": {},
   "source": [
    "## [4153] 직각삼각형 "
   ]
  },
  {
   "cell_type": "code",
   "execution_count": 8,
   "id": "7094380d",
   "metadata": {},
   "outputs": [
    {
     "name": "stdout",
     "output_type": "stream",
     "text": [
      "6 8 10\n",
      "25 52 60\n",
      "5 12 13\n",
      "0 0 0\n",
      "right\n",
      "wrong\n",
      "right\n"
     ]
    }
   ],
   "source": [
    "triangle = []\n",
    "\n",
    "while True:\n",
    "    tr = list(map(int, input().split()))\n",
    "    if 0 in tr:\n",
    "        break\n",
    "    triangle.append(tr)\n",
    "    \n",
    "for i in range(len(triangle)):\n",
    "    triangle[i].sort()\n",
    "    if triangle[i][0]**2 + triangle[i][1]**2 == triangle[i][2]**2:\n",
    "        print('right')\n",
    "    else:\n",
    "        print('wrong')"
   ]
  },
  {
   "cell_type": "markdown",
   "id": "a6e10b2e",
   "metadata": {},
   "source": [
    "피타고라스 정리에 따라 가장 긴 변의 제곱이 나머지 두 변의 제곱의 합과 같으면 직각 삼각형이므로 right, 아니면 wrong을 출력해주었다."
   ]
  }
 ],
 "metadata": {
  "kernelspec": {
   "display_name": "Python 3 (ipykernel)",
   "language": "python",
   "name": "python3"
  },
  "language_info": {
   "codemirror_mode": {
    "name": "ipython",
    "version": 3
   },
   "file_extension": ".py",
   "mimetype": "text/x-python",
   "name": "python",
   "nbconvert_exporter": "python",
   "pygments_lexer": "ipython3",
   "version": "3.9.13"
  }
 },
 "nbformat": 4,
 "nbformat_minor": 5
}
