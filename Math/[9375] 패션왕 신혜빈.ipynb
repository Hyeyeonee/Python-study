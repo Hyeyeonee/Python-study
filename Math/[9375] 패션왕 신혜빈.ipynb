{
 "cells": [
  {
   "cell_type": "markdown",
   "id": "e84e974e",
   "metadata": {},
   "source": [
    "## [9375] 패션왕 신혜빈"
   ]
  },
  {
   "cell_type": "code",
   "execution_count": 15,
   "id": "dbf1127d",
   "metadata": {},
   "outputs": [
    {
     "name": "stdout",
     "output_type": "stream",
     "text": [
      "2\n",
      "3\n",
      "hat headgear\n",
      "sunglasses eyewear\n",
      "turban headgear\n",
      "5\n",
      "3\n",
      "mask face\n",
      "sunglasses face\n",
      "makeup face\n",
      "3\n"
     ]
    }
   ],
   "source": [
    "n1 = int(input())\n",
    "for _ in range(n1):\n",
    "    n2 = int(input())\n",
    "    clothes = {}\n",
    "    \n",
    "    for _ in range(n2):\n",
    "        clth, kind = input().split()\n",
    "        if kind in clothes:\n",
    "            clothes[kind] += 1\n",
    "        else:\n",
    "            clothes[kind] = 1\n",
    "        \n",
    "    result = 1\n",
    "    for i in clothes:\n",
    "        result *= (clothes[i] + 1)\n",
    "        \n",
    "    print(result - 1)"
   ]
  },
  {
   "cell_type": "markdown",
   "id": "d8178ea2",
   "metadata": {},
   "source": [
    "**문제 풀이** <br>\n",
    "clothes라는 dictionary를 만들어주고 옷 종류가 처음 들어온거면 1, 있던 종류라면 +1을 해준다. <br>\n",
    "그리고 그 값들을 +1을 해주고 모두 곱해주는데, 안 입어주는 경우까지 생각해서 +1을 해주는거고, 마지막에 -1은 아예 안 입는 경우를 제외한 것이다. <br>\n",
    "이때,  `for i in clothes:`에 i에는 clothes의 key값이 들어간다.                                                                             "
   ]
  }
 ],
 "metadata": {
  "kernelspec": {
   "display_name": "Python 3 (ipykernel)",
   "language": "python",
   "name": "python3"
  },
  "language_info": {
   "codemirror_mode": {
    "name": "ipython",
    "version": 3
   },
   "file_extension": ".py",
   "mimetype": "text/x-python",
   "name": "python",
   "nbconvert_exporter": "python",
   "pygments_lexer": "ipython3",
   "version": "3.9.13"
  }
 },
 "nbformat": 4,
 "nbformat_minor": 5
}
