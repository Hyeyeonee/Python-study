{
 "cells": [
  {
   "cell_type": "markdown",
   "id": "3af6808b",
   "metadata": {},
   "source": [
    "## [10814] 나이순 정렬"
   ]
  },
  {
   "cell_type": "code",
   "execution_count": 12,
   "id": "31bdf810",
   "metadata": {},
   "outputs": [
    {
     "name": "stdout",
     "output_type": "stream",
     "text": [
      "3\n",
      "21 Junkyu\n",
      "21 Dohyun\n",
      "20 Sunyoung\n",
      "20 Sunyoung\n",
      "21 Junkyu\n",
      "21 Dohyun\n"
     ]
    }
   ],
   "source": [
    "num = int(input())\n",
    "mem = [input().split() for i in range(num)]\n",
    "\n",
    "mem.sort(key = lambda x:int(x[0]))\n",
    "for i in mem:\n",
    "    print(' '.join(i))"
   ]
  },
  {
   "cell_type": "markdown",
   "id": "53efa722",
   "metadata": {},
   "source": [
    "- 입력받은 수대로 반복해서 각 멤버의 나이와 이름을 이중리스트로 저장\n",
    "- 이중리스트중 나이 즉, x[0]에 해당하는 수에 따라 정렬\n",
    "- 정렬된 이중리스트를 공백으로 구분해 출력"
   ]
  }
 ],
 "metadata": {
  "kernelspec": {
   "display_name": "Python 3 (ipykernel)",
   "language": "python",
   "name": "python3"
  },
  "language_info": {
   "codemirror_mode": {
    "name": "ipython",
    "version": 3
   },
   "file_extension": ".py",
   "mimetype": "text/x-python",
   "name": "python",
   "nbconvert_exporter": "python",
   "pygments_lexer": "ipython3",
   "version": "3.9.13"
  }
 },
 "nbformat": 4,
 "nbformat_minor": 5
}
