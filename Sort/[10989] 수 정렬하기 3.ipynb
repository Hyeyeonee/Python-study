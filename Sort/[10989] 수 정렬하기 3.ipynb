{
 "cells": [
  {
   "cell_type": "markdown",
   "id": "8c4e6b77",
   "metadata": {},
   "source": [
    "## [10989] 수 정렬하기 3"
   ]
  },
  {
   "cell_type": "code",
   "execution_count": null,
   "id": "88c70544",
   "metadata": {},
   "outputs": [],
   "source": [
    "import sys\n",
    "input = sys.stdin.readline\n",
    "\n",
    "n_list = [0] * 100001\n",
    "\n",
    "num = int(input())\n",
    "for _ in range(num):\n",
    "    n_list[int(input())]  += 1\n",
    "\n",
    "for i in range(100001):\n",
    "    if n_list[i] != 0:\n",
    "        for j in range(n_list[i]):\n",
    "            print(i)"
   ]
  },
  {
   "cell_type": "markdown",
   "id": "d3493b27",
   "metadata": {},
   "source": [
    "- 문제 풀이 자체는 굉장히 쉽지만.. 메모리 제한이 걸려 있어서 틀렸다..!\n",
    "- 시간 복잡도, 공간 복잡도를 중요하게 생각해야 한다는 것을.. 오랜만에 다시 깨달은 문제다\n",
    "\n",
    "```python\n",
    "num = int(input())\n",
    "n_list = [int(input()) for i in range(num)]\n",
    "n_list.sort()\n",
    "\n",
    "for i in range(num):\n",
    "\tprint(n_list[i])\n",
    "```\n",
    "\n",
    "라고 풀었었다\n",
    "<br><br>\n",
    "\n",
    "\n",
    "**틀린 이유**\n",
    "\n",
    "1️⃣ sys.stdin.readline을 쓰지 않고 단순히 input() 사용 <br>\n",
    "2️⃣ for문을 돌면서 n_list를 추가해줌..! 리스트를 재할당하는데 메모리가 많이 들어간다고 한다.. <br>➡️ **미리 리스트를 만들어주자!** 문제에서 10,000보다 작거나 같은 자연수로 수가 주어진다고 했으니 10,001개를 만들어놓았다.\n",
    "\n",
    "값을 추가할 때와 최종적으로 출력할 때 신경쓸 게 있는데\n",
    "우리가 입력하는 수가 **index가 된다**는 점이다. <br> 그 index에 해당하는 값을 올려주고, 그 값만큼 index를 출력해주는 것이 포인트였다."
   ]
  }
 ],
 "metadata": {
  "kernelspec": {
   "display_name": "Python 3 (ipykernel)",
   "language": "python",
   "name": "python3"
  },
  "language_info": {
   "codemirror_mode": {
    "name": "ipython",
    "version": 3
   },
   "file_extension": ".py",
   "mimetype": "text/x-python",
   "name": "python",
   "nbconvert_exporter": "python",
   "pygments_lexer": "ipython3",
   "version": "3.9.13"
  }
 },
 "nbformat": 4,
 "nbformat_minor": 5
}
