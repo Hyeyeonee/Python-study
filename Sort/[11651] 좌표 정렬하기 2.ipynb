{
 "cells": [
  {
   "cell_type": "markdown",
   "id": "8c4e6b77",
   "metadata": {},
   "source": [
    "## [11651] 좌표 정렬하기 2"
   ]
  },
  {
   "cell_type": "code",
   "execution_count": 5,
   "id": "7cdab8dd",
   "metadata": {},
   "outputs": [
    {
     "name": "stdout",
     "output_type": "stream",
     "text": [
      "5\n",
      "0 4\n",
      "1 2\n",
      "1 -1\n",
      "2 2\n",
      "3 3\n",
      "1 -1\n",
      "1 2\n",
      "2 2\n",
      "3 3\n",
      "0 4\n"
     ]
    }
   ],
   "source": [
    "num = int(input())\n",
    "cd_list = [list(map(int, input().split())) for i in range(num)]\n",
    "\n",
    "cd_list.sort(key = lambda x:(x[1], x[0]))\n",
    "\n",
    "for cd in cd_list:\n",
    "    print(cd[0], cd[1])"
   ]
  },
  {
   "cell_type": "markdown",
   "id": "d3fbb8c7",
   "metadata": {},
   "source": [
    "정렬 문제는 어렵게 안 내면.. 머쓱할 정도로 별게 없다.. <br>\n",
    "그냥 문제에서 제시한 순서대로 정렬만 해주면 되는데 이 문제에서는 x,y 좌표를 정렬하면 되는데 y순으로, 그리고 y좌표가 같으면 x순으로 해주면 된다. <br>\n",
    "그래서 `sort(key = lambda x:(x[1], x[0]))`를 해주었다..!"
   ]
  }
 ],
 "metadata": {
  "kernelspec": {
   "display_name": "Python 3 (ipykernel)",
   "language": "python",
   "name": "python3"
  },
  "language_info": {
   "codemirror_mode": {
    "name": "ipython",
    "version": 3
   },
   "file_extension": ".py",
   "mimetype": "text/x-python",
   "name": "python",
   "nbconvert_exporter": "python",
   "pygments_lexer": "ipython3",
   "version": "3.9.13"
  }
 },
 "nbformat": 4,
 "nbformat_minor": 5
}
