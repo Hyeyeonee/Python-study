{
 "cells": [
  {
   "cell_type": "markdown",
   "id": "61a09f15",
   "metadata": {},
   "source": [
    "## [1181] 단어 정렬"
   ]
  },
  {
   "cell_type": "code",
   "execution_count": null,
   "id": "be557af5",
   "metadata": {},
   "outputs": [],
   "source": [
    "num = int(input())\n",
    "word = [input() for i in range(num)]\n",
    "\n",
    "word = list(set(word)) ## 중복 제거\n",
    "word.sort(key = lambda x:(len(x), x)) # 길이순, 사전순 정렬\n",
    "\n",
    "for result in word:\n",
    "    print(result)"
   ]
  },
  {
   "cell_type": "code",
   "execution_count": 1,
   "id": "097d33f5",
   "metadata": {},
   "outputs": [
    {
     "name": "stdout",
     "output_type": "stream",
     "text": [
      "13\n",
      "but\n",
      "i\n",
      "wont\n",
      "hesitate\n",
      "no\n",
      "more\n",
      "no\n",
      "more\n",
      "it\n",
      "cannot\n",
      "wait\n",
      "im\n",
      "yours\n",
      "i\n",
      "im\n",
      "it\n",
      "no\n",
      "but\n",
      "more\n",
      "wait\n",
      "wont\n",
      "yours\n",
      "cannot\n",
      "hesitate\n"
     ]
    }
   ],
   "source": [
    "num = int(input())\n",
    "w = [input() for i in range(num)]\n",
    "word = []\n",
    "\n",
    "for i in range(num):\n",
    "    if w[i] not in word:\n",
    "        word.append(w[i])\n",
    "\n",
    "word.sort(key = lambda x:(len(x), x))\n",
    "\n",
    "for result in word:\n",
    "    print(result)"
   ]
  },
  {
   "cell_type": "markdown",
   "id": "46423317",
   "metadata": {},
   "source": [
    "**문제** <br>\n",
    "1. 길이가 짧은 것부터\n",
    "2. 길이가 같으면 사전 순으로<br>\n",
    "(단, 중복된 단어는 하나만 남기고 제거해야 한다.)"
   ]
  },
  {
   "cell_type": "markdown",
   "id": "4af62f8f",
   "metadata": {},
   "source": [
    "- 길이가 짧은 것부터와 길이가 같으면 사전 순으로는 sort lambda에 multiple keys를 사용해주어 x:(len(x), x) 로 해결하였다.\n",
    "- 중복된 단어를 하나만 남기고 제거하는 방법에는 여러 가지가 있는데\n",
    "    - 첫 번째 코드처럼 list(set())을 사용하는 방법\n",
    "    - 두 번째 코드처럼 for문을 사용해서 not in 으로 이미 있는 단어는 append하지 않는 방법이 있다."
   ]
  }
 ],
 "metadata": {
  "kernelspec": {
   "display_name": "Python 3 (ipykernel)",
   "language": "python",
   "name": "python3"
  },
  "language_info": {
   "codemirror_mode": {
    "name": "ipython",
    "version": 3
   },
   "file_extension": ".py",
   "mimetype": "text/x-python",
   "name": "python",
   "nbconvert_exporter": "python",
   "pygments_lexer": "ipython3",
   "version": "3.9.13"
  }
 },
 "nbformat": 4,
 "nbformat_minor": 5
}
