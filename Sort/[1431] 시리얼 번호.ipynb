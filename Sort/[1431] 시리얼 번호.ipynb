{
 "cells": [
  {
   "cell_type": "markdown",
   "id": "61a09f15",
   "metadata": {},
   "source": [
    "## [1431] 시리얼 번호"
   ]
  },
  {
   "cell_type": "code",
   "execution_count": 27,
   "id": "a1170a95",
   "metadata": {},
   "outputs": [
    {
     "name": "stdout",
     "output_type": "stream",
     "text": [
      "5\n",
      "ABCD\n",
      "145C\n",
      "A\n",
      "A910\n",
      "Z321\n",
      "A\n",
      "ABCD\n",
      "Z321\n",
      "145C\n",
      "A910\n"
     ]
    }
   ],
   "source": [
    "num = int(input())\n",
    "n_list = []\n",
    "number = ['0','1','2','3','4','5','6','7','8','9']\n",
    "\n",
    "for _ in range(num):\n",
    "    n = input()\n",
    "    n_list.append([n, len(n)])\n",
    "    \n",
    "for i in range(num):\n",
    "    sum = 0\n",
    "    for j in range(n_list[i][1]):\n",
    "        if n_list[i][0][j] in number:\n",
    "            sum += int(n_list[i][0][j])\n",
    "    n_list[i].append(sum)\n",
    "    \n",
    "n_list.sort(key = lambda x:(x[1],x[2],x[0]))\n",
    "\n",
    "for i in range(len(n_list)):\n",
    "    print(n_list[i][0])"
   ]
  },
  {
   "cell_type": "code",
   "execution_count": 29,
   "id": "3dc925f2",
   "metadata": {},
   "outputs": [
    {
     "name": "stdout",
     "output_type": "stream",
     "text": [
      "5\n",
      "ABCD\n",
      "145C\n",
      "A\n",
      "A910\n",
      "Z321\n",
      "A\n",
      "ABCD\n",
      "Z321\n",
      "145C\n",
      "A910\n"
     ]
    }
   ],
   "source": [
    "num = int(input())\n",
    "n_list = []\n",
    "\n",
    "for i in range(num):\n",
    "    n = input()\n",
    "    length = len(n)\n",
    "    sum = 0\n",
    "    for j in range(length):\n",
    "        if n[j].isdigit():\n",
    "            sum += int(n[j])\n",
    "    n_list.append([n, len(n), sum])\n",
    "    \n",
    "n_list.sort(key = lambda x:(x[1],x[2],x[0]))\n",
    "\n",
    "for i in range(len(n_list)):\n",
    "    print(n_list[i][0])"
   ]
  },
  {
   "cell_type": "markdown",
   "id": "926b4458",
   "metadata": {},
   "source": [
    "둘다 크게 다른 코드는 아니지만, `isdigit()`이 생각이 안 나서 숫자 리스트를 따로 생성해줬었다.. <br>\n",
    "\n",
    "**문제 풀이!** <br>\n",
    "문제에서 말했던대로 조건을 그대로 넣어주면 되는데 그래서 필요한 것은 **문자열의 length, 숫자의 합, 사전 순**이다.\n",
    "- length = len(n)\n",
    "- sum은 문자열을 하나씩 탐색하면서 숫자라면 sum에 누적해주면 된다.\n",
    "- 사전순은 그대로 input()을 넣어주면 되기 때문에 따로 처리해줄 것이 없다. <br>\n",
    "\n",
    "\n",
    "이렇게 만들어진 것들을 n_list애 append해주고 그대로 sort해주었다."
   ]
  }
 ],
 "metadata": {
  "kernelspec": {
   "display_name": "Python 3 (ipykernel)",
   "language": "python",
   "name": "python3"
  },
  "language_info": {
   "codemirror_mode": {
    "name": "ipython",
    "version": 3
   },
   "file_extension": ".py",
   "mimetype": "text/x-python",
   "name": "python",
   "nbconvert_exporter": "python",
   "pygments_lexer": "ipython3",
   "version": "3.9.13"
  }
 },
 "nbformat": 4,
 "nbformat_minor": 5
}
