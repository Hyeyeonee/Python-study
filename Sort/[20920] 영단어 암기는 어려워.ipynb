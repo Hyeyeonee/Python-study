{
 "cells": [
  {
   "cell_type": "markdown",
   "id": "6b170c68-917b-4bff-b4c2-90a19e92051a",
   "metadata": {},
   "source": [
    "## 20920 : 영단어 암기는 어려워"
   ]
  },
  {
   "cell_type": "code",
   "execution_count": 8,
   "id": "3b615023-f273-4c37-b325-ea80527e97eb",
   "metadata": {},
   "outputs": [
    {
     "name": "stdin",
     "output_type": "stream",
     "text": [
      " 12 5\n",
      " appearance\n",
      " append\n",
      " attendance\n",
      " swim\n",
      " swift\n",
      " swift\n",
      " swift\n",
      " mouse\n",
      " wallet\n",
      " mouse\n",
      " ice\n",
      " age\n"
     ]
    },
    {
     "name": "stdout",
     "output_type": "stream",
     "text": [
      "swift\n",
      "mouse\n",
      "appearance\n",
      "attendance\n",
      "append\n",
      "wallet\n"
     ]
    }
   ],
   "source": [
    "N, M = map(int, input().split())\n",
    "word = {}\n",
    "\n",
    "for i in range(N):\n",
    "    w = input()\n",
    "    l = len(w)\n",
    "    \n",
    "    if l < M:\n",
    "        continue\n",
    "    \n",
    "    if w in word:\n",
    "        word[w][2] += 1\n",
    "    else:\n",
    "        word[w] = [w, l, 1]\n",
    "\n",
    "word = sorted(word.values(), key=lambda x: (-x[2], -x[1], x[0]))\n",
    "\n",
    "for w in word:\n",
    "    print(w[0])"
   ]
  },
  {
   "cell_type": "markdown",
   "id": "b5d63d36-63d3-4b8c-8166-9cc31605b23a",
   "metadata": {},
   "source": [
    "💡딕셔너리를 잘 활용하는 습관을 들여야겠다\n",
    "word의 key에는 영단어가 있고 value에는 [word, 영단어 길이, 등장 횟수]를 넣었다.\n",
    "이미 word에 있는 단어가 들어오면 등장 횟수에 해당하는 word[w][2]를 1 증가\n",
    "없으면 key를 만들어서 추가한다.\n",
    "sorted에서 key오\n",
    "📍 계속 틀린 이유 : -x[1]에 -를 안 붙였다.. 내림차순이면 -를 붙이자 + 문제를 잘 읽자.."
   ]
  }
 ],
 "metadata": {
  "kernelspec": {
   "display_name": "Python 3 (ipykernel)",
   "language": "python",
   "name": "python3"
  },
  "language_info": {
   "codemirror_mode": {
    "name": "ipython",
    "version": 3
   },
   "file_extension": ".py",
   "mimetype": "text/x-python",
   "name": "python",
   "nbconvert_exporter": "python",
   "pygments_lexer": "ipython3",
   "version": "3.12.7"
  }
 },
 "nbformat": 4,
 "nbformat_minor": 5
}
