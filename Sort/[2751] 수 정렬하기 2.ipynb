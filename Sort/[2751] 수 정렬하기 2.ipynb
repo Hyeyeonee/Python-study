{
 "cells": [
  {
   "cell_type": "markdown",
   "id": "98be2698",
   "metadata": {},
   "source": [
    "## [2751] 수 정렬하기 2"
   ]
  },
  {
   "cell_type": "code",
   "execution_count": 24,
   "id": "2d81dca6",
   "metadata": {},
   "outputs": [
    {
     "name": "stdout",
     "output_type": "stream",
     "text": [
      "5\n",
      "5\n",
      "4\n",
      "3\n",
      "2\n",
      "1\n",
      "1\n",
      "2\n",
      "3\n",
      "4\n",
      "5\n"
     ]
    }
   ],
   "source": [
    "import sys\n",
    "input = sys.stdin.readline\n",
    "\n",
    "num = int(input())\n",
    "n_list = sorted([int(input()) for _ in range(num)])\n",
    "\n",
    "for i in n_list:\n",
    "    print(i)"
   ]
  },
  {
   "cell_type": "markdown",
   "id": "7d8fafc5",
   "metadata": {},
   "source": [
    "머지..! 정답률이 30%밖에 안 되길래 시간 초과나 메모리 사용량에서 뭔가 조절을 해야 하는 문제인 줄 알았는데.. 크게 어려운 부분이 없었다. <br>\n",
    "`input = sys.stdin.readline`만 추가해주면 시간 초과없이 잘 해결된다!\n",
    "\n",
    "**문제 풀이**\n",
    "- sys를 사용해서 받은 수만큼 숫자를 입력받고 sorted()로 바로 정렬해주었다.\n",
    "- 그냥 한 줄에 하나씩 원소가 출력되도록 for문을 작성해준다!"
   ]
  }
 ],
 "metadata": {
  "kernelspec": {
   "display_name": "Python 3 (ipykernel)",
   "language": "python",
   "name": "python3"
  },
  "language_info": {
   "codemirror_mode": {
    "name": "ipython",
    "version": 3
   },
   "file_extension": ".py",
   "mimetype": "text/x-python",
   "name": "python",
   "nbconvert_exporter": "python",
   "pygments_lexer": "ipython3",
   "version": "3.9.13"
  }
 },
 "nbformat": 4,
 "nbformat_minor": 5
}
